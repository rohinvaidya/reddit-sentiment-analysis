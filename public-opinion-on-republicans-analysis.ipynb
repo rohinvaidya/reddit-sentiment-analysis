{
 "cells": [
  {
   "cell_type": "markdown",
   "metadata": {
    "id": "rcJoKETPLx8a"
   },
   "source": [
    "# **Setup**"
   ]
  },
  {
   "cell_type": "markdown",
   "metadata": {
    "id": "NsBVQBGTH68F"
   },
   "source": [
    "## **Install Modules**"
   ]
  },
  {
   "cell_type": "code",
   "execution_count": null,
   "metadata": {
    "colab": {
     "base_uri": "https://localhost:8080/"
    },
    "executionInfo": {
     "elapsed": 22764,
     "status": "ok",
     "timestamp": 1734202530753,
     "user": {
      "displayName": "Amitejash Rout",
      "userId": "12681306270883229901"
     },
     "user_tz": 300
    },
    "id": "H7UReZghm02e",
    "outputId": "475d7dc6-b2eb-4ac1-e88c-86ddb5d5bc8b"
   },
   "outputs": [],
   "source": [
    "!pip install -q kaggle\n",
    "!pip install -q csvkit\n",
    "!pip install -q pyLDAvis\n",
    "!pip install -q vaderSentiment\n",
    "!pip install -q fuzzywuzzy"
   ]
  },
  {
   "cell_type": "markdown",
   "metadata": {
    "id": "pfl71fWjL4F8"
   },
   "source": [
    "## **Connect to Google drive**"
   ]
  },
  {
   "cell_type": "code",
   "execution_count": null,
   "metadata": {
    "colab": {
     "base_uri": "https://localhost:8080/",
     "height": 55
    },
    "executionInfo": {
     "elapsed": 3930,
     "status": "ok",
     "timestamp": 1734202534678,
     "user": {
      "displayName": "Amitejash Rout",
      "userId": "12681306270883229901"
     },
     "user_tz": 300
    },
    "id": "z1eXqzVjnB88",
    "outputId": "4016483f-420c-41ce-c462-fda1e877ecec"
   },
   "outputs": [],
   "source": [
    "from google.colab import files\n",
    "files.upload()"
   ]
  },
  {
   "cell_type": "code",
   "execution_count": 5,
   "metadata": {
    "executionInfo": {
     "elapsed": 3,
     "status": "ok",
     "timestamp": 1734202534678,
     "user": {
      "displayName": "Amitejash Rout",
      "userId": "12681306270883229901"
     },
     "user_tz": 300
    },
    "id": "Rb7clMPXnI_J"
   },
   "outputs": [],
   "source": [
    "! mkdir ~/.kaggle"
   ]
  },
  {
   "cell_type": "code",
   "execution_count": null,
   "metadata": {
    "colab": {
     "base_uri": "https://localhost:8080/"
    },
    "executionInfo": {
     "elapsed": 153,
     "status": "ok",
     "timestamp": 1734202534828,
     "user": {
      "displayName": "Amitejash Rout",
      "userId": "12681306270883229901"
     },
     "user_tz": 300
    },
    "id": "ogp4DNp8nMek",
    "outputId": "a36d16ba-d306-40e5-9673-54a47ee19283"
   },
   "outputs": [],
   "source": [
    "! cp kaggle.json ~/.kaggle/"
   ]
  },
  {
   "cell_type": "code",
   "execution_count": 7,
   "metadata": {
    "colab": {
     "base_uri": "https://localhost:8080/"
    },
    "executionInfo": {
     "elapsed": 159,
     "status": "ok",
     "timestamp": 1734202534986,
     "user": {
      "displayName": "Amitejash Rout",
      "userId": "12681306270883229901"
     },
     "user_tz": 300
    },
    "id": "XAjjqW7hnSvE",
    "outputId": "feed97db-202f-4ef0-dca6-43cb38fb4ddb"
   },
   "outputs": [
    {
     "name": "stdout",
     "output_type": "stream",
     "text": [
      "chmod: cannot access '/root/.kaggle/kaggle.json': No such file or directory\n"
     ]
    }
   ],
   "source": [
    "! chmod 600 ~/.kaggle/kaggle.json"
   ]
  },
  {
   "cell_type": "code",
   "execution_count": null,
   "metadata": {
    "colab": {
     "base_uri": "https://localhost:8080/"
    },
    "executionInfo": {
     "elapsed": 13841,
     "status": "ok",
     "timestamp": 1734202548825,
     "user": {
      "displayName": "Amitejash Rout",
      "userId": "12681306270883229901"
     },
     "user_tz": 300
    },
    "id": "n_fWypBjnUxE",
    "outputId": "e45d4010-11e4-4011-b3e8-121dfa7d9672"
   },
   "outputs": [],
   "source": [
    "! kaggle datasets download -d asaniczka/public-opinion-on-republicans-daily-updated"
   ]
  },
  {
   "cell_type": "code",
   "execution_count": null,
   "metadata": {
    "colab": {
     "base_uri": "https://localhost:8080/"
    },
    "executionInfo": {
     "elapsed": 67000,
     "status": "ok",
     "timestamp": 1734202615824,
     "user": {
      "displayName": "Amitejash Rout",
      "userId": "12681306270883229901"
     },
     "user_tz": 300
    },
    "id": "ytxTPqP_oamu",
    "outputId": "d2ebcfde-dff2-456a-f3ca-c3770c9c5756"
   },
   "outputs": [],
   "source": [
    "! mkdir republicans\n",
    "! unzip /content/public-opinion-on-republicans-daily-updated.zip -d /content/republicans"
   ]
  },
  {
   "cell_type": "markdown",
   "metadata": {
    "id": "WwqLNVY7IEVr"
   },
   "source": [
    "## **Import modules**"
   ]
  },
  {
   "cell_type": "code",
   "execution_count": null,
   "metadata": {
    "colab": {
     "base_uri": "https://localhost:8080/"
    },
    "executionInfo": {
     "elapsed": 612,
     "status": "ok",
     "timestamp": 1734202616434,
     "user": {
      "displayName": "Amitejash Rout",
      "userId": "12681306270883229901"
     },
     "user_tz": 300
    },
    "id": "oXClxm8tMPHj",
    "outputId": "65059e35-a9e4-40e4-abb7-25c02e44b2d5"
   },
   "outputs": [],
   "source": [
    "# Mount google drive directory\n",
    "from google.colab import drive\n",
    "drive.mount(\"/content/drive\")"
   ]
  },
  {
   "cell_type": "code",
   "execution_count": null,
   "metadata": {
    "colab": {
     "base_uri": "https://localhost:8080/"
    },
    "executionInfo": {
     "elapsed": 15395,
     "status": "ok",
     "timestamp": 1734202650374,
     "user": {
      "displayName": "Amitejash Rout",
      "userId": "12681306270883229901"
     },
     "user_tz": 300
    },
    "id": "O3Vea8XippXN",
    "outputId": "5e02865c-334c-4515-fd35-b9afc3a70fb3"
   },
   "outputs": [],
   "source": [
    "# Standard library imports\n",
    "import re\n",
    "import pickle\n",
    "from datetime import datetime\n",
    "\n",
    "# Related third party imports\n",
    "import nltk\n",
    "import numpy as np\n",
    "import pandas as pd\n",
    "import seaborn as sns\n",
    "import plotly.express as px\n",
    "import spacy\n",
    "import matplotlib.pyplot as plt\n",
    "from scipy.stats import pearsonr\n",
    "from fuzzywuzzy import fuzz\n",
    "\n",
    "# nltk specific downloads\n",
    "nltk.data.path.append('/content/')\n",
    "nltk.download('wordnet')\n",
    "nltk.download('punkt')\n",
    "nltk.download('stopwords')\n",
    "\n",
    "# nltk specific imports\n",
    "from nltk.corpus import stopwords\n",
    "from nltk.corpus import wordnet as wn\n",
    "from nltk.stem import WordNetLemmatizer\n",
    "\n",
    "# Local application/library specific imports\n",
    "from gensim.corpora import Dictionary\n",
    "from gensim.models import CoherenceModel\n",
    "from gensim.models.ldamodel import LdaModel\n",
    "from sklearn.cluster import KMeans\n",
    "from sklearn.decomposition import LatentDirichletAllocation\n",
    "from sklearn.feature_extraction.text import CountVectorizer\n",
    "from sklearn.feature_extraction.text import TfidfVectorizer\n",
    "from sklearn.linear_model import LinearRegression\n",
    "from sklearn.metrics import silhouette_score\n",
    "from sklearn.model_selection import train_test_split\n",
    "from transformers import pipeline\n",
    "from transformers import AutoTokenizer\n",
    "from vaderSentiment.vaderSentiment import SentimentIntensityAnalyzer\n",
    "\n",
    "pd.set_option('display.max_colwidth', None)"
   ]
  },
  {
   "cell_type": "code",
   "execution_count": null,
   "metadata": {
    "executionInfo": {
     "elapsed": 2,
     "status": "ok",
     "timestamp": 1734202650374,
     "user": {
      "displayName": "Amitejash Rout",
      "userId": "12681306270883229901"
     },
     "user_tz": 300
    },
    "id": "JJYXlLih-Cto"
   },
   "outputs": [],
   "source": [
    "PATH = ''\n",
    "DATASETS_PATH = PATH + 'datasets/'\n",
    "MODELS = PATH + 'models/'"
   ]
  },
  {
   "cell_type": "markdown",
   "metadata": {
    "id": "JuCvuCXOIIe5"
   },
   "source": [
    "## **Load Dataset**"
   ]
  },
  {
   "cell_type": "code",
   "execution_count": null,
   "metadata": {
    "colab": {
     "base_uri": "https://localhost:8080/"
    },
    "executionInfo": {
     "elapsed": 89667,
     "status": "ok",
     "timestamp": 1734202740040,
     "user": {
      "displayName": "Amitejash Rout",
      "userId": "12681306270883229901"
     },
     "user_tz": 300
    },
    "id": "GXI1Kd2cptGi",
    "outputId": "7a5c073d-6dcf-4d6c-bd36-7880642ca579"
   },
   "outputs": [],
   "source": [
    "# Load dataset\n",
    "df = pd.read_csv('/content/republicans/reddit_opinion_republican.csv')\n",
    "\n",
    "# Display the first few rows of the dataset\n",
    "print(df.head())\n",
    "print(df.info())\n",
    "print(df.describe())"
   ]
  },
  {
   "cell_type": "code",
   "execution_count": 14,
   "metadata": {
    "colab": {
     "base_uri": "https://localhost:8080/"
    },
    "executionInfo": {
     "elapsed": 3,
     "status": "ok",
     "timestamp": 1734202740040,
     "user": {
      "displayName": "Amitejash Rout",
      "userId": "12681306270883229901"
     },
     "user_tz": 300
    },
    "id": "SMIr0AUTqa8f",
    "outputId": "ad605bc2-af09-4fc5-c34a-d0068bb714fc"
   },
   "outputs": [
    {
     "name": "stdout",
     "output_type": "stream",
     "text": [
      "Total number of rows: 5019642\n"
     ]
    }
   ],
   "source": [
    "# Print the total number of rows\n",
    "print(\"Total number of rows:\", df.shape[0])"
   ]
  },
  {
   "cell_type": "markdown",
   "metadata": {
    "id": "d0DjIMS16uwY"
   },
   "source": [
    "# **Data Exploration**"
   ]
  },
  {
   "cell_type": "markdown",
   "metadata": {
    "id": "dUNuBboOtvIk"
   },
   "source": [
    "### **Check missing values**"
   ]
  },
  {
   "cell_type": "code",
   "execution_count": 15,
   "metadata": {
    "colab": {
     "base_uri": "https://localhost:8080/",
     "height": 837
    },
    "executionInfo": {
     "elapsed": 4673,
     "status": "ok",
     "timestamp": 1734202744711,
     "user": {
      "displayName": "Amitejash Rout",
      "userId": "12681306270883229901"
     },
     "user_tz": 300
    },
    "id": "rG5EvjgFtt8r",
    "outputId": "77be1e25-0c0a-4a03-a4d2-a05d959dff8f"
   },
   "outputs": [
    {
     "data": {
      "text/html": [
       "<div>\n",
       "<style scoped>\n",
       "    .dataframe tbody tr th:only-of-type {\n",
       "        vertical-align: middle;\n",
       "    }\n",
       "\n",
       "    .dataframe tbody tr th {\n",
       "        vertical-align: top;\n",
       "    }\n",
       "\n",
       "    .dataframe thead th {\n",
       "        text-align: right;\n",
       "    }\n",
       "</style>\n",
       "<table border=\"1\" class=\"dataframe\">\n",
       "  <thead>\n",
       "    <tr style=\"text-align: right;\">\n",
       "      <th></th>\n",
       "      <th>0</th>\n",
       "    </tr>\n",
       "  </thead>\n",
       "  <tbody>\n",
       "    <tr>\n",
       "      <th>comment_id</th>\n",
       "      <td>0</td>\n",
       "    </tr>\n",
       "    <tr>\n",
       "      <th>score</th>\n",
       "      <td>0</td>\n",
       "    </tr>\n",
       "    <tr>\n",
       "      <th>self_text</th>\n",
       "      <td>33</td>\n",
       "    </tr>\n",
       "    <tr>\n",
       "      <th>subreddit</th>\n",
       "      <td>0</td>\n",
       "    </tr>\n",
       "    <tr>\n",
       "      <th>created_time</th>\n",
       "      <td>0</td>\n",
       "    </tr>\n",
       "    <tr>\n",
       "      <th>post_id</th>\n",
       "      <td>0</td>\n",
       "    </tr>\n",
       "    <tr>\n",
       "      <th>author_name</th>\n",
       "      <td>0</td>\n",
       "    </tr>\n",
       "    <tr>\n",
       "      <th>controversiality</th>\n",
       "      <td>0</td>\n",
       "    </tr>\n",
       "    <tr>\n",
       "      <th>ups</th>\n",
       "      <td>0</td>\n",
       "    </tr>\n",
       "    <tr>\n",
       "      <th>downs</th>\n",
       "      <td>0</td>\n",
       "    </tr>\n",
       "    <tr>\n",
       "      <th>user_is_verified</th>\n",
       "      <td>0</td>\n",
       "    </tr>\n",
       "    <tr>\n",
       "      <th>user_account_created_time</th>\n",
       "      <td>134770</td>\n",
       "    </tr>\n",
       "    <tr>\n",
       "      <th>user_awardee_karma</th>\n",
       "      <td>171</td>\n",
       "    </tr>\n",
       "    <tr>\n",
       "      <th>user_awarder_karma</th>\n",
       "      <td>171</td>\n",
       "    </tr>\n",
       "    <tr>\n",
       "      <th>user_link_karma</th>\n",
       "      <td>171</td>\n",
       "    </tr>\n",
       "    <tr>\n",
       "      <th>user_comment_karma</th>\n",
       "      <td>171</td>\n",
       "    </tr>\n",
       "    <tr>\n",
       "      <th>user_total_karma</th>\n",
       "      <td>171</td>\n",
       "    </tr>\n",
       "    <tr>\n",
       "      <th>post_score</th>\n",
       "      <td>0</td>\n",
       "    </tr>\n",
       "    <tr>\n",
       "      <th>post_self_text</th>\n",
       "      <td>4211863</td>\n",
       "    </tr>\n",
       "    <tr>\n",
       "      <th>post_title</th>\n",
       "      <td>0</td>\n",
       "    </tr>\n",
       "    <tr>\n",
       "      <th>post_upvote_ratio</th>\n",
       "      <td>0</td>\n",
       "    </tr>\n",
       "    <tr>\n",
       "      <th>post_thumbs_ups</th>\n",
       "      <td>0</td>\n",
       "    </tr>\n",
       "    <tr>\n",
       "      <th>post_total_awards_received</th>\n",
       "      <td>0</td>\n",
       "    </tr>\n",
       "    <tr>\n",
       "      <th>post_created_time</th>\n",
       "      <td>0</td>\n",
       "    </tr>\n",
       "  </tbody>\n",
       "</table>\n",
       "</div><br><label><b>dtype:</b> int64</label>"
      ],
      "text/plain": [
       "comment_id                          0\n",
       "score                               0\n",
       "self_text                          33\n",
       "subreddit                           0\n",
       "created_time                        0\n",
       "post_id                             0\n",
       "author_name                         0\n",
       "controversiality                    0\n",
       "ups                                 0\n",
       "downs                               0\n",
       "user_is_verified                    0\n",
       "user_account_created_time      134770\n",
       "user_awardee_karma                171\n",
       "user_awarder_karma                171\n",
       "user_link_karma                   171\n",
       "user_comment_karma                171\n",
       "user_total_karma                  171\n",
       "post_score                          0\n",
       "post_self_text                4211863\n",
       "post_title                          0\n",
       "post_upvote_ratio                   0\n",
       "post_thumbs_ups                     0\n",
       "post_total_awards_received          0\n",
       "post_created_time                   0\n",
       "dtype: int64"
      ]
     },
     "execution_count": 15,
     "metadata": {},
     "output_type": "execute_result"
    }
   ],
   "source": [
    "df.isna().sum()"
   ]
  },
  {
   "cell_type": "markdown",
   "metadata": {
    "id": "JR3TWah79bYh"
   },
   "source": [
    "### **Check duplicates**"
   ]
  },
  {
   "cell_type": "code",
   "execution_count": 16,
   "metadata": {
    "colab": {
     "base_uri": "https://localhost:8080/"
    },
    "executionInfo": {
     "elapsed": 36436,
     "status": "ok",
     "timestamp": 1734202781145,
     "user": {
      "displayName": "Amitejash Rout",
      "userId": "12681306270883229901"
     },
     "user_tz": 300
    },
    "id": "UOsY1I3w9foD",
    "outputId": "6b90cf6e-f00e-4dd6-c7a6-9ec626613038"
   },
   "outputs": [
    {
     "data": {
      "text/plain": [
       "0"
      ]
     },
     "execution_count": 16,
     "metadata": {},
     "output_type": "execute_result"
    }
   ],
   "source": [
    "df.duplicated().sum()"
   ]
  },
  {
   "cell_type": "markdown",
   "metadata": {
    "id": "PixH_SrbCy1K"
   },
   "source": [
    "### **Create a datframe that takes data uptil November 5th, 2024 00:00:00**"
   ]
  },
  {
   "cell_type": "code",
   "execution_count": 17,
   "metadata": {
    "colab": {
     "base_uri": "https://localhost:8080/",
     "height": 1000
    },
    "executionInfo": {
     "elapsed": 4026,
     "status": "ok",
     "timestamp": 1734202785169,
     "user": {
      "displayName": "Amitejash Rout",
      "userId": "12681306270883229901"
     },
     "user_tz": 300
    },
    "id": "-p9_bLUhCx-G",
    "outputId": "9550b404-be1a-407d-d19d-2c1d9ecd27df"
   },
   "outputs": [
    {
     "name": "stdout",
     "output_type": "stream",
     "text": [
      "5019642\n",
      "Total number of rows in the filtered DataFrame: 4366187\n"
     ]
    },
    {
     "data": {
      "application/vnd.google.colaboratory.intrinsic+json": {
       "type": "dataframe",
       "variable_name": "pre_elections_df"
      },
      "text/html": [
       "\n",
       "  <div id=\"df-e67923eb-ce48-475b-b516-8eed01358d11\" class=\"colab-df-container\">\n",
       "    <div>\n",
       "<style scoped>\n",
       "    .dataframe tbody tr th:only-of-type {\n",
       "        vertical-align: middle;\n",
       "    }\n",
       "\n",
       "    .dataframe tbody tr th {\n",
       "        vertical-align: top;\n",
       "    }\n",
       "\n",
       "    .dataframe thead th {\n",
       "        text-align: right;\n",
       "    }\n",
       "</style>\n",
       "<table border=\"1\" class=\"dataframe\">\n",
       "  <thead>\n",
       "    <tr style=\"text-align: right;\">\n",
       "      <th></th>\n",
       "      <th>comment_id</th>\n",
       "      <th>score</th>\n",
       "      <th>self_text</th>\n",
       "      <th>subreddit</th>\n",
       "      <th>created_time</th>\n",
       "      <th>post_id</th>\n",
       "      <th>author_name</th>\n",
       "      <th>controversiality</th>\n",
       "      <th>ups</th>\n",
       "      <th>downs</th>\n",
       "      <th>...</th>\n",
       "      <th>user_link_karma</th>\n",
       "      <th>user_comment_karma</th>\n",
       "      <th>user_total_karma</th>\n",
       "      <th>post_score</th>\n",
       "      <th>post_self_text</th>\n",
       "      <th>post_title</th>\n",
       "      <th>post_upvote_ratio</th>\n",
       "      <th>post_thumbs_ups</th>\n",
       "      <th>post_total_awards_received</th>\n",
       "      <th>post_created_time</th>\n",
       "    </tr>\n",
       "  </thead>\n",
       "  <tbody>\n",
       "    <tr>\n",
       "      <th>653455</th>\n",
       "      <td>lvfs88y</td>\n",
       "      <td>1</td>\n",
       "      <td>Guy doesn’t know what real work is.  Spoiled little bully</td>\n",
       "      <td>PoliticalHumor</td>\n",
       "      <td>2024-11-04 23:59:59</td>\n",
       "      <td>1gjmqhm</td>\n",
       "      <td>PerpetualFarter</td>\n",
       "      <td>0</td>\n",
       "      <td>1</td>\n",
       "      <td>0</td>\n",
       "      <td>...</td>\n",
       "      <td>1912.0</td>\n",
       "      <td>18548.0</td>\n",
       "      <td>21359.0</td>\n",
       "      <td>1028</td>\n",
       "      <td>NaN</td>\n",
       "      <td>Trump's Garbage truck door dilemma: three tries, one handle, zero dignity</td>\n",
       "      <td>0.98</td>\n",
       "      <td>1028</td>\n",
       "      <td>0</td>\n",
       "      <td>2024-11-04 19:22:41</td>\n",
       "    </tr>\n",
       "    <tr>\n",
       "      <th>653456</th>\n",
       "      <td>lvfs7mf</td>\n",
       "      <td>71</td>\n",
       "      <td>Anyone who’s “undecided” is voting Trump and not admitting it because psycho leftists will ruin their lives</td>\n",
       "      <td>ShitPoliticsSays</td>\n",
       "      <td>2024-11-04 23:59:54</td>\n",
       "      <td>1gjs4nv</td>\n",
       "      <td>burntbridges20</td>\n",
       "      <td>0</td>\n",
       "      <td>71</td>\n",
       "      <td>0</td>\n",
       "      <td>...</td>\n",
       "      <td>4169.0</td>\n",
       "      <td>52691.0</td>\n",
       "      <td>58238.0</td>\n",
       "      <td>275</td>\n",
       "      <td>NaN</td>\n",
       "      <td>\"Woman I've been dating said she's undecided about Trump v. Harris. I feel sick.\" Entire thread is a gold mine, literally 100%.</td>\n",
       "      <td>0.95</td>\n",
       "      <td>275</td>\n",
       "      <td>0</td>\n",
       "      <td>2024-11-04 23:07:25</td>\n",
       "    </tr>\n",
       "    <tr>\n",
       "      <th>653457</th>\n",
       "      <td>lvfs7f7</td>\n",
       "      <td>4</td>\n",
       "      <td>My great aunt was one of the last generations before the polio vaccine was available. She got it as a kid and was confined to a wheelchair for the rest of her life. Fuck these conservative ghouls.</td>\n",
       "      <td>politics</td>\n",
       "      <td>2024-11-04 23:59:52</td>\n",
       "      <td>1gjlocw</td>\n",
       "      <td>henrythe13th</td>\n",
       "      <td>0</td>\n",
       "      <td>4</td>\n",
       "      <td>0</td>\n",
       "      <td>...</td>\n",
       "      <td>5.0</td>\n",
       "      <td>32044.0</td>\n",
       "      <td>32057.0</td>\n",
       "      <td>210</td>\n",
       "      <td>NaN</td>\n",
       "      <td>Trump indicates he is open to RFK Jr’s proposal to ban vaccines if elected</td>\n",
       "      <td>0.91</td>\n",
       "      <td>210</td>\n",
       "      <td>0</td>\n",
       "      <td>2024-11-04 18:39:35</td>\n",
       "    </tr>\n",
       "    <tr>\n",
       "      <th>653458</th>\n",
       "      <td>lvfs78b</td>\n",
       "      <td>13</td>\n",
       "      <td>People don't remember. No one was safe in the third Reich, it wasn't just Jewish people. \\n\\nIf you were gay, concentration camp. \\n\\nIf you were a woman, off to the Aryan breeding programs. \\n\\nIf you were a male nazi with brown eyes, welcome to the Eastern front. \\n\\nIf you were a Hitler youth, go defend Berlin with a slingshot. \\n\\nIf you were an Aryan Uber mensch, congratulations, you get PTSD from atrocities Hitler commands you to commit while he figures out how to label you a traitor. \\n\\nIf youre Hitler's top general, welcome to the impossible campaign. We expect you to beat all of Russia with three teenagers and a luger. \\n\\nIf youre Hitlers wife, please eat this cyanide to prove your devotion to hitler. \\n\\nIf youre hitler, you will be shot by hitler himself!\\n\\nIn fascism, everybody suffers. Everyone. There is no one better off than they were before it started. Believing anything else is tantamount to political blindness.</td>\n",
       "      <td>politics</td>\n",
       "      <td>2024-11-04 23:59:50</td>\n",
       "      <td>1gjmmjo</td>\n",
       "      <td>MountainMan2_</td>\n",
       "      <td>0</td>\n",
       "      <td>13</td>\n",
       "      <td>0</td>\n",
       "      <td>...</td>\n",
       "      <td>6430.0</td>\n",
       "      <td>147382.0</td>\n",
       "      <td>154418.0</td>\n",
       "      <td>15657</td>\n",
       "      <td>NaN</td>\n",
       "      <td>Harris leading Trump by 34 points among Latino voters in Pennsylvania: Survey</td>\n",
       "      <td>0.96</td>\n",
       "      <td>15657</td>\n",
       "      <td>0</td>\n",
       "      <td>2024-11-04 19:18:11</td>\n",
       "    </tr>\n",
       "    <tr>\n",
       "      <th>653459</th>\n",
       "      <td>lvfs739</td>\n",
       "      <td>70</td>\n",
       "      <td>This needs to be the law of the land. All 50 states.</td>\n",
       "      <td>Conservative</td>\n",
       "      <td>2024-11-04 23:59:48</td>\n",
       "      <td>1gjrp4i</td>\n",
       "      <td>Dazzling_Pink9751</td>\n",
       "      <td>0</td>\n",
       "      <td>70</td>\n",
       "      <td>0</td>\n",
       "      <td>...</td>\n",
       "      <td>1.0</td>\n",
       "      <td>9058.0</td>\n",
       "      <td>9059.0</td>\n",
       "      <td>661</td>\n",
       "      <td>NaN</td>\n",
       "      <td>BREAKING: Georgia Supreme Court gives BIG victory to Republicans on election day voting</td>\n",
       "      <td>0.72</td>\n",
       "      <td>661</td>\n",
       "      <td>0</td>\n",
       "      <td>2024-11-04 22:48:22</td>\n",
       "    </tr>\n",
       "  </tbody>\n",
       "</table>\n",
       "<p>5 rows × 24 columns</p>\n",
       "</div>\n",
       "    <div class=\"colab-df-buttons\">\n",
       "\n",
       "  <div class=\"colab-df-container\">\n",
       "    <button class=\"colab-df-convert\" onclick=\"convertToInteractive('df-e67923eb-ce48-475b-b516-8eed01358d11')\"\n",
       "            title=\"Convert this dataframe to an interactive table.\"\n",
       "            style=\"display:none;\">\n",
       "\n",
       "  <svg xmlns=\"http://www.w3.org/2000/svg\" height=\"24px\" viewBox=\"0 -960 960 960\">\n",
       "    <path d=\"M120-120v-720h720v720H120Zm60-500h600v-160H180v160Zm220 220h160v-160H400v160Zm0 220h160v-160H400v160ZM180-400h160v-160H180v160Zm440 0h160v-160H620v160ZM180-180h160v-160H180v160Zm440 0h160v-160H620v160Z\"/>\n",
       "  </svg>\n",
       "    </button>\n",
       "\n",
       "  <style>\n",
       "    .colab-df-container {\n",
       "      display:flex;\n",
       "      gap: 12px;\n",
       "    }\n",
       "\n",
       "    .colab-df-convert {\n",
       "      background-color: #E8F0FE;\n",
       "      border: none;\n",
       "      border-radius: 50%;\n",
       "      cursor: pointer;\n",
       "      display: none;\n",
       "      fill: #1967D2;\n",
       "      height: 32px;\n",
       "      padding: 0 0 0 0;\n",
       "      width: 32px;\n",
       "    }\n",
       "\n",
       "    .colab-df-convert:hover {\n",
       "      background-color: #E2EBFA;\n",
       "      box-shadow: 0px 1px 2px rgba(60, 64, 67, 0.3), 0px 1px 3px 1px rgba(60, 64, 67, 0.15);\n",
       "      fill: #174EA6;\n",
       "    }\n",
       "\n",
       "    .colab-df-buttons div {\n",
       "      margin-bottom: 4px;\n",
       "    }\n",
       "\n",
       "    [theme=dark] .colab-df-convert {\n",
       "      background-color: #3B4455;\n",
       "      fill: #D2E3FC;\n",
       "    }\n",
       "\n",
       "    [theme=dark] .colab-df-convert:hover {\n",
       "      background-color: #434B5C;\n",
       "      box-shadow: 0px 1px 3px 1px rgba(0, 0, 0, 0.15);\n",
       "      filter: drop-shadow(0px 1px 2px rgba(0, 0, 0, 0.3));\n",
       "      fill: #FFFFFF;\n",
       "    }\n",
       "  </style>\n",
       "\n",
       "    <script>\n",
       "      const buttonEl =\n",
       "        document.querySelector('#df-e67923eb-ce48-475b-b516-8eed01358d11 button.colab-df-convert');\n",
       "      buttonEl.style.display =\n",
       "        google.colab.kernel.accessAllowed ? 'block' : 'none';\n",
       "\n",
       "      async function convertToInteractive(key) {\n",
       "        const element = document.querySelector('#df-e67923eb-ce48-475b-b516-8eed01358d11');\n",
       "        const dataTable =\n",
       "          await google.colab.kernel.invokeFunction('convertToInteractive',\n",
       "                                                    [key], {});\n",
       "        if (!dataTable) return;\n",
       "\n",
       "        const docLinkHtml = 'Like what you see? Visit the ' +\n",
       "          '<a target=\"_blank\" href=https://colab.research.google.com/notebooks/data_table.ipynb>data table notebook</a>'\n",
       "          + ' to learn more about interactive tables.';\n",
       "        element.innerHTML = '';\n",
       "        dataTable['output_type'] = 'display_data';\n",
       "        await google.colab.output.renderOutput(dataTable, element);\n",
       "        const docLink = document.createElement('div');\n",
       "        docLink.innerHTML = docLinkHtml;\n",
       "        element.appendChild(docLink);\n",
       "      }\n",
       "    </script>\n",
       "  </div>\n",
       "\n",
       "\n",
       "<div id=\"df-3ce9b1f3-8e42-4c29-a897-06349ae0099e\">\n",
       "  <button class=\"colab-df-quickchart\" onclick=\"quickchart('df-3ce9b1f3-8e42-4c29-a897-06349ae0099e')\"\n",
       "            title=\"Suggest charts\"\n",
       "            style=\"display:none;\">\n",
       "\n",
       "<svg xmlns=\"http://www.w3.org/2000/svg\" height=\"24px\"viewBox=\"0 0 24 24\"\n",
       "     width=\"24px\">\n",
       "    <g>\n",
       "        <path d=\"M19 3H5c-1.1 0-2 .9-2 2v14c0 1.1.9 2 2 2h14c1.1 0 2-.9 2-2V5c0-1.1-.9-2-2-2zM9 17H7v-7h2v7zm4 0h-2V7h2v10zm4 0h-2v-4h2v4z\"/>\n",
       "    </g>\n",
       "</svg>\n",
       "  </button>\n",
       "\n",
       "<style>\n",
       "  .colab-df-quickchart {\n",
       "      --bg-color: #E8F0FE;\n",
       "      --fill-color: #1967D2;\n",
       "      --hover-bg-color: #E2EBFA;\n",
       "      --hover-fill-color: #174EA6;\n",
       "      --disabled-fill-color: #AAA;\n",
       "      --disabled-bg-color: #DDD;\n",
       "  }\n",
       "\n",
       "  [theme=dark] .colab-df-quickchart {\n",
       "      --bg-color: #3B4455;\n",
       "      --fill-color: #D2E3FC;\n",
       "      --hover-bg-color: #434B5C;\n",
       "      --hover-fill-color: #FFFFFF;\n",
       "      --disabled-bg-color: #3B4455;\n",
       "      --disabled-fill-color: #666;\n",
       "  }\n",
       "\n",
       "  .colab-df-quickchart {\n",
       "    background-color: var(--bg-color);\n",
       "    border: none;\n",
       "    border-radius: 50%;\n",
       "    cursor: pointer;\n",
       "    display: none;\n",
       "    fill: var(--fill-color);\n",
       "    height: 32px;\n",
       "    padding: 0;\n",
       "    width: 32px;\n",
       "  }\n",
       "\n",
       "  .colab-df-quickchart:hover {\n",
       "    background-color: var(--hover-bg-color);\n",
       "    box-shadow: 0 1px 2px rgba(60, 64, 67, 0.3), 0 1px 3px 1px rgba(60, 64, 67, 0.15);\n",
       "    fill: var(--button-hover-fill-color);\n",
       "  }\n",
       "\n",
       "  .colab-df-quickchart-complete:disabled,\n",
       "  .colab-df-quickchart-complete:disabled:hover {\n",
       "    background-color: var(--disabled-bg-color);\n",
       "    fill: var(--disabled-fill-color);\n",
       "    box-shadow: none;\n",
       "  }\n",
       "\n",
       "  .colab-df-spinner {\n",
       "    border: 2px solid var(--fill-color);\n",
       "    border-color: transparent;\n",
       "    border-bottom-color: var(--fill-color);\n",
       "    animation:\n",
       "      spin 1s steps(1) infinite;\n",
       "  }\n",
       "\n",
       "  @keyframes spin {\n",
       "    0% {\n",
       "      border-color: transparent;\n",
       "      border-bottom-color: var(--fill-color);\n",
       "      border-left-color: var(--fill-color);\n",
       "    }\n",
       "    20% {\n",
       "      border-color: transparent;\n",
       "      border-left-color: var(--fill-color);\n",
       "      border-top-color: var(--fill-color);\n",
       "    }\n",
       "    30% {\n",
       "      border-color: transparent;\n",
       "      border-left-color: var(--fill-color);\n",
       "      border-top-color: var(--fill-color);\n",
       "      border-right-color: var(--fill-color);\n",
       "    }\n",
       "    40% {\n",
       "      border-color: transparent;\n",
       "      border-right-color: var(--fill-color);\n",
       "      border-top-color: var(--fill-color);\n",
       "    }\n",
       "    60% {\n",
       "      border-color: transparent;\n",
       "      border-right-color: var(--fill-color);\n",
       "    }\n",
       "    80% {\n",
       "      border-color: transparent;\n",
       "      border-right-color: var(--fill-color);\n",
       "      border-bottom-color: var(--fill-color);\n",
       "    }\n",
       "    90% {\n",
       "      border-color: transparent;\n",
       "      border-bottom-color: var(--fill-color);\n",
       "    }\n",
       "  }\n",
       "</style>\n",
       "\n",
       "  <script>\n",
       "    async function quickchart(key) {\n",
       "      const quickchartButtonEl =\n",
       "        document.querySelector('#' + key + ' button');\n",
       "      quickchartButtonEl.disabled = true;  // To prevent multiple clicks.\n",
       "      quickchartButtonEl.classList.add('colab-df-spinner');\n",
       "      try {\n",
       "        const charts = await google.colab.kernel.invokeFunction(\n",
       "            'suggestCharts', [key], {});\n",
       "      } catch (error) {\n",
       "        console.error('Error during call to suggestCharts:', error);\n",
       "      }\n",
       "      quickchartButtonEl.classList.remove('colab-df-spinner');\n",
       "      quickchartButtonEl.classList.add('colab-df-quickchart-complete');\n",
       "    }\n",
       "    (() => {\n",
       "      let quickchartButtonEl =\n",
       "        document.querySelector('#df-3ce9b1f3-8e42-4c29-a897-06349ae0099e button');\n",
       "      quickchartButtonEl.style.display =\n",
       "        google.colab.kernel.accessAllowed ? 'block' : 'none';\n",
       "    })();\n",
       "  </script>\n",
       "</div>\n",
       "\n",
       "    </div>\n",
       "  </div>\n"
      ],
      "text/plain": [
       "       comment_id  score  \\\n",
       "653455    lvfs88y      1   \n",
       "653456    lvfs7mf     71   \n",
       "653457    lvfs7f7      4   \n",
       "653458    lvfs78b     13   \n",
       "653459    lvfs739     70   \n",
       "\n",
       "                                                                                                                                                                                                                                                                                                                                                                                                                                                                                                                                                                                                                                                                                                                                                                                                                                                                                                                                                                                self_text  \\\n",
       "653455                                                                                                                                                                                                                                                                                                                                                                                                                                                                                                                                                                                                                                                                                                                                                                                                                                                                                                                          Guy doesn’t know what real work is.  Spoiled little bully   \n",
       "653456                                                                                                                                                                                                                                                                                                                                                                                                                                                                                                                                                                                                                                                                                                                                                                                                                                                                        Anyone who’s “undecided” is voting Trump and not admitting it because psycho leftists will ruin their lives   \n",
       "653457                                                                                                                                                                                                                                                                                                                                                                                                                                                                                                                                                                                                                                                                                                                                                                               My great aunt was one of the last generations before the polio vaccine was available. She got it as a kid and was confined to a wheelchair for the rest of her life. Fuck these conservative ghouls.   \n",
       "653458  People don't remember. No one was safe in the third Reich, it wasn't just Jewish people. \\n\\nIf you were gay, concentration camp. \\n\\nIf you were a woman, off to the Aryan breeding programs. \\n\\nIf you were a male nazi with brown eyes, welcome to the Eastern front. \\n\\nIf you were a Hitler youth, go defend Berlin with a slingshot. \\n\\nIf you were an Aryan Uber mensch, congratulations, you get PTSD from atrocities Hitler commands you to commit while he figures out how to label you a traitor. \\n\\nIf youre Hitler's top general, welcome to the impossible campaign. We expect you to beat all of Russia with three teenagers and a luger. \\n\\nIf youre Hitlers wife, please eat this cyanide to prove your devotion to hitler. \\n\\nIf youre hitler, you will be shot by hitler himself!\\n\\nIn fascism, everybody suffers. Everyone. There is no one better off than they were before it started. Believing anything else is tantamount to political blindness.   \n",
       "653459                                                                                                                                                                                                                                                                                                                                                                                                                                                                                                                                                                                                                                                                                                                                                                                                                                                                                                                               This needs to be the law of the land. All 50 states.   \n",
       "\n",
       "               subreddit        created_time  post_id        author_name  \\\n",
       "653455    PoliticalHumor 2024-11-04 23:59:59  1gjmqhm    PerpetualFarter   \n",
       "653456  ShitPoliticsSays 2024-11-04 23:59:54  1gjs4nv     burntbridges20   \n",
       "653457          politics 2024-11-04 23:59:52  1gjlocw       henrythe13th   \n",
       "653458          politics 2024-11-04 23:59:50  1gjmmjo      MountainMan2_   \n",
       "653459      Conservative 2024-11-04 23:59:48  1gjrp4i  Dazzling_Pink9751   \n",
       "\n",
       "        controversiality  ups  downs  ...  user_link_karma user_comment_karma  \\\n",
       "653455                 0    1      0  ...           1912.0            18548.0   \n",
       "653456                 0   71      0  ...           4169.0            52691.0   \n",
       "653457                 0    4      0  ...              5.0            32044.0   \n",
       "653458                 0   13      0  ...           6430.0           147382.0   \n",
       "653459                 0   70      0  ...              1.0             9058.0   \n",
       "\n",
       "        user_total_karma  post_score  post_self_text  \\\n",
       "653455           21359.0        1028             NaN   \n",
       "653456           58238.0         275             NaN   \n",
       "653457           32057.0         210             NaN   \n",
       "653458          154418.0       15657             NaN   \n",
       "653459            9059.0         661             NaN   \n",
       "\n",
       "                                                                                                                             post_title  \\\n",
       "653455                                                        Trump's Garbage truck door dilemma: three tries, one handle, zero dignity   \n",
       "653456  \"Woman I've been dating said she's undecided about Trump v. Harris. I feel sick.\" Entire thread is a gold mine, literally 100%.   \n",
       "653457                                                       Trump indicates he is open to RFK Jr’s proposal to ban vaccines if elected   \n",
       "653458                                                   Harris leading Trump by 34 points among Latino voters in Pennsylvania: Survey    \n",
       "653459                                          BREAKING: Georgia Supreme Court gives BIG victory to Republicans on election day voting   \n",
       "\n",
       "        post_upvote_ratio  post_thumbs_ups post_total_awards_received  \\\n",
       "653455               0.98             1028                          0   \n",
       "653456               0.95              275                          0   \n",
       "653457               0.91              210                          0   \n",
       "653458               0.96            15657                          0   \n",
       "653459               0.72              661                          0   \n",
       "\n",
       "          post_created_time  \n",
       "653455  2024-11-04 19:22:41  \n",
       "653456  2024-11-04 23:07:25  \n",
       "653457  2024-11-04 18:39:35  \n",
       "653458  2024-11-04 19:18:11  \n",
       "653459  2024-11-04 22:48:22  \n",
       "\n",
       "[5 rows x 24 columns]"
      ]
     },
     "execution_count": 17,
     "metadata": {},
     "output_type": "execute_result"
    }
   ],
   "source": [
    "print(df.shape[0])\n",
    "\n",
    "# Convert 'created_time' column to datetime objects\n",
    "df['created_time'] = pd.to_datetime(df['created_time'])\n",
    "\n",
    "# Filter data\n",
    "pre_elections_df = df[df['created_time'] <= '2024-11-04 23:59:59']\n",
    "\n",
    "# Print the total number of rows in the filtered DataFrame\n",
    "print(\"Total number of rows in the filtered DataFrame:\", pre_elections_df.shape[0])\n",
    "\n",
    "# Print first few entries of filtered dataframe\n",
    "pre_elections_df.head()"
   ]
  },
  {
   "cell_type": "code",
   "execution_count": null,
   "metadata": {
    "id": "fCQlXL8_9LVK"
   },
   "outputs": [],
   "source": [
    "csv_file = DATASETS_PATH + \"republicans-basic.csv\"\n",
    "\n",
    "pre_elections_df.to_csv(csv_file, index=False)"
   ]
  },
  {
   "cell_type": "markdown",
   "metadata": {
    "id": "Hwb_ypIlUlke"
   },
   "source": [
    "### **Get the count of unique subreddits**"
   ]
  },
  {
   "cell_type": "code",
   "execution_count": null,
   "metadata": {
    "id": "FE6APQDLvtGT"
   },
   "outputs": [],
   "source": [
    "unique_subreddit = pre_elections_df['subreddit'].unique()\n",
    "print('Unique Subreddits: ', unique_subreddit)\n",
    "\n",
    "subreddit_counts = pre_elections_df['subreddit'].value_counts()\n",
    "print('Count of Subreddits: \\n', subreddit_counts)\n",
    "\n",
    "# Create a bar plot\n",
    "plt.figure(figsize=(12, 6))\n",
    "subreddit_counts.plot(kind='bar')\n",
    "\n",
    "# Customize the plot\n",
    "plt.title('Subreddit Counts')\n",
    "plt.xlabel('Subreddit')\n",
    "plt.ylabel('Count')\n",
    "plt.xticks(rotation=45, ha='right')\n",
    "plt.tight_layout()\n",
    "\n",
    "# Show the plot\n",
    "plt.show()"
   ]
  },
  {
   "cell_type": "markdown",
   "metadata": {
    "id": "Dyff5Uz6_qMi"
   },
   "source": [
    "### **Subreddit count in hundreds**"
   ]
  },
  {
   "cell_type": "code",
   "execution_count": null,
   "metadata": {
    "id": "S0g1RYZj_wHj"
   },
   "outputs": [],
   "source": [
    "subreddit_counts_in_hundreds = subreddit_counts / 100\n",
    "\n",
    "# Create a bar plot\n",
    "plt.figure(figsize=(12, 6))\n",
    "subreddit_counts_in_hundreds[:10].plot(kind='bar', color='skyblue')\n",
    "\n",
    "# Customize the plot\n",
    "plt.title('Top 10 Comment Counts (in Hundreds) Based on Subreddits')\n",
    "plt.xlabel('Subreddit')\n",
    "plt.ylabel('Count (hundreds)')\n",
    "plt.xticks(rotation=45, ha='right')\n",
    "plt.tight_layout()\n",
    "\n",
    "# Show the plot\n",
    "plt.show()"
   ]
  },
  {
   "cell_type": "markdown",
   "metadata": {
    "id": "AskqTnPCAWVM"
   },
   "source": [
    "### **Create a dataframe that only has data from the 'politics' subreddit uptil November 5th, 2024**"
   ]
  },
  {
   "cell_type": "markdown",
   "metadata": {
    "id": "84Rtlpjxq50F"
   },
   "source": [
    "### Filter rows sourced from \"r/politics\" subreddit"
   ]
  },
  {
   "cell_type": "code",
   "execution_count": null,
   "metadata": {
    "id": "FnPtAbEwAa-N"
   },
   "outputs": [],
   "source": [
    "politics_df = pre_elections_df[pre_elections_df['subreddit'] == 'politics']\n",
    "politics_df.head()"
   ]
  },
  {
   "cell_type": "markdown",
   "metadata": {
    "id": "QyB-PQTQ9tb4"
   },
   "source": [
    "### **Create a dataframe that only has data from the 'politics' subreddit from 2024**"
   ]
  },
  {
   "cell_type": "code",
   "execution_count": null,
   "metadata": {
    "id": "gH5o13frBF3T"
   },
   "outputs": [],
   "source": [
    "pre_elections_2024_df = politics_df[politics_df['created_time'] >= '2024-01-01 00:00:00']"
   ]
  },
  {
   "cell_type": "code",
   "execution_count": null,
   "metadata": {
    "id": "6Yj-ttQWGE8j"
   },
   "outputs": [],
   "source": [
    "# Group by month and count the comments\n",
    "pre_elections_2024_df['created_month'] = pre_elections_2024_df['created_time'].dt.to_period('M')\n",
    "print(pre_elections_2024_df[\"created_month\"])\n",
    "\n",
    "monthly_comment_count = pre_elections_2024_df.groupby('created_month').size().reset_index(name='comment_count')\n",
    "print(monthly_comment_count)\n",
    "\n",
    "print(monthly_comment_count.info())\n",
    "\n",
    "# Convert 'created_month' to datetime for plotting\n",
    "monthly_comment_count['created_month'] = monthly_comment_count['created_month'].dt.to_timestamp()\n",
    "\n",
    "# Plot the number of comments per month\n",
    "plt.figure(figsize=(12, 6))\n",
    "plt.plot(monthly_comment_count['created_month'], monthly_comment_count['comment_count'], \\\n",
    "         label='Number of Comments', marker='o', color='skyblue', linestyle='-')\n",
    "plt.xlabel(\"Month\")\n",
    "plt.ylabel(\"Number of Comments\")\n",
    "plt.title(\"Monthly Comment Count for Republican-Related Comments\")\n",
    "plt.show()"
   ]
  },
  {
   "cell_type": "code",
   "execution_count": null,
   "metadata": {
    "id": "LhxBl_gz5ti4"
   },
   "outputs": [],
   "source": [
    "# Find the day of highest engagement in 2024-08\n",
    "monthly_rep_df = pre_elections_2024_df[pre_elections_2024_df['created_month'] == \"2024-08\"]\n",
    "print(monthly_rep_df[\"created_time\"].tail())\n",
    "print(monthly_rep_df[\"created_time\"].head())"
   ]
  },
  {
   "cell_type": "markdown",
   "metadata": {
    "id": "lIuh9TQF-mku"
   },
   "source": [
    "### **Most Engaging Day of The Most Engaging Month**"
   ]
  },
  {
   "cell_type": "code",
   "execution_count": null,
   "metadata": {
    "id": "nQZUyUZnKrqY"
   },
   "outputs": [],
   "source": [
    "# Group by day and count the comments\n",
    "daily_comment_count = monthly_rep_df.groupby(monthly_rep_df['created_time'].dt.day).size().reset_index(name='comment_count')\n",
    "\n",
    "# Rename the 'created_time' column to 'day'\n",
    "daily_comment_count = daily_comment_count.rename(columns={'created_time': 'day'})\n",
    "\n",
    "# Create a bar plot of daily counts\n",
    "plt.figure(figsize=(12, 6))\n",
    "plt.bar(daily_comment_count['day'], daily_comment_count['comment_count'], color='blue')\n",
    "\n",
    "# Customize the plot\n",
    "# Access the first value of the 'created_time' column using .iloc[0]\n",
    "first_date = monthly_rep_df['created_time'].iloc[0]\n",
    "plt.title(f'Daily Comment Counts for {first_date.month}-{first_date.year}')\n",
    "plt.xlabel('Day of the Month')\n",
    "plt.ylabel('Number of Comments')\n",
    "plt.xticks(daily_comment_count['day'])  # Ensure all days are shown on the x-axis\n",
    "plt.tight_layout()\n",
    "\n",
    "# Show the plot\n",
    "plt.show()"
   ]
  },
  {
   "cell_type": "code",
   "execution_count": null,
   "metadata": {
    "id": "wTfWobS3-D4w"
   },
   "outputs": [],
   "source": [
    "max_comment_day = daily_comment_count.loc[daily_comment_count['comment_count'].idxmax(), 'day']\n",
    "print(\"Day with maximum comment count:\", max_comment_day)\n",
    "\n",
    "# Filter the data for the specific day with the maximum comments\n",
    "max_day_data = monthly_rep_df[monthly_rep_df['created_time'].dt.day == max_comment_day]\n",
    "\n",
    "# Now max_day_data contains only the comments from the day with the highest comment count\n",
    "# within the month that had the highest overall comment count.\n",
    "print(f\"\\nComments from the day with the maximum comments in {first_date.month}:\")\n",
    "max_day_data.head()"
   ]
  },
  {
   "cell_type": "code",
   "execution_count": null,
   "metadata": {
    "id": "gbJKtxNzfMRd"
   },
   "outputs": [],
   "source": [
    "# Group by 'post_title' and sum the 'score' for each unique title within max_day_data\n",
    "title_scores = max_day_data.groupby('post_title')['score'].sum()\n",
    "\n",
    "# Sort the title scores in descending order\n",
    "title_scores_sorted = title_scores.sort_values(ascending=False)\n",
    "\n",
    "# Create a new DataFrame with the sorted title scores, post IDs, and the sum of scores\n",
    "result_df = pd.DataFrame({\n",
    "    'post_title': title_scores_sorted.index,\n",
    "    'total_score': title_scores_sorted.values\n",
    "})\n",
    "\n",
    "# Add the post_id to the result dataframe\n",
    "post_ids = []\n",
    "for title in result_df['post_title']:\n",
    "    post_ids.append(max_day_data[max_day_data['post_title'] == title]['post_id'].iloc[0])\n",
    "result_df['post_id'] = post_ids\n",
    "\n",
    "result_df"
   ]
  },
  {
   "cell_type": "code",
   "execution_count": null,
   "metadata": {
    "id": "wUBM9ufMfYfL"
   },
   "outputs": [],
   "source": [
    "# Sort the DataFrame by total_score in descending order and get the top 10 rows\n",
    "top_10_titles = result_df.sort_values(by='total_score', ascending=False).head(10)\n",
    "\n",
    "# Print the top 10 titles and their total scores\n",
    "pd.set_option('display.max_colwidth', None)\n",
    "#this will ensure that the entire title is displayed\n",
    "print(top_10_titles['post_title'])"
   ]
  },
  {
   "cell_type": "code",
   "execution_count": null,
   "metadata": {
    "id": "3IKgN_gUVkOX"
   },
   "outputs": [],
   "source": [
    "def trim_string(string):\n",
    "    return string[:29] + '...'\n",
    "\n",
    "top_10_titles['post_title_shortened'] = top_10_titles['post_title'].apply(trim_string)\n",
    "\n",
    "plt.figure(figsize=(12, 6))\n",
    "plt.bar(top_10_titles['post_title_shortened'], top_10_titles['total_score'])\n",
    "plt.xlabel(\"Post Title\")\n",
    "plt.ylabel(\"Title Score\")\n",
    "plt.title(\"Top 10 Titles: Title Score vs. Post\")\n",
    "plt.xticks(rotation=45, ha='right')\n",
    "plt.show()"
   ]
  },
  {
   "cell_type": "code",
   "execution_count": null,
   "metadata": {
    "id": "Gq47W0ebVoJo"
   },
   "outputs": [],
   "source": [
    "# Print the top 3 post titles completely\n",
    "for i in range(min(3, len(result_df))):  # Handle cases where there are fewer than 3 titles\n",
    "    print(result_df['post_title'][i])"
   ]
  },
  {
   "cell_type": "markdown",
   "metadata": {
    "id": "8cf_app48mrt"
   },
   "source": [
    "# **Sentiment Exploration on non-cleaned data**"
   ]
  },
  {
   "cell_type": "markdown",
   "metadata": {
    "id": "Tzx6lwMGInef"
   },
   "source": [
    "### **Handle Missing values**"
   ]
  },
  {
   "cell_type": "code",
   "execution_count": null,
   "metadata": {
    "id": "6Ttj3QUAIqLZ"
   },
   "outputs": [],
   "source": [
    "# Convert the 'user_account_created_time' column to datetime objects\n",
    "pre_elections_2024_df['user_account_created_time'] = pd.to_datetime(pre_elections_2024_df['user_account_created_time'])\n",
    "\n",
    "# Calculate the median account age and use it to fill missing values\n",
    "median_date = pre_elections_2024_df['user_account_created_time'].median()\n",
    "pre_elections_2024_df['user_account_created_time'] = pre_elections_2024_df['user_account_created_time'].fillna(median_date)\n",
    "\n",
    "# Drop these rows as the number of missing values is very insignificant in contrast to the dataset size\n",
    "pre_elections_2024_df.dropna(subset=['user_awardee_karma', 'user_awarder_karma', 'user_link_karma', 'user_comment_karma', 'user_total_karma', 'self_text'], inplace=True)\n",
    "\n",
    "pre_elections_2024_df.isna().sum()"
   ]
  },
  {
   "cell_type": "code",
   "execution_count": null,
   "metadata": {
    "id": "tnL_de0DtYy1"
   },
   "outputs": [],
   "source": [
    "# Debug statements\n",
    "\n",
    "pre_elections_2024_df.info()\n",
    "pre_elections_2024_df.describe()"
   ]
  },
  {
   "cell_type": "code",
   "execution_count": null,
   "metadata": {
    "id": "LRUW_8XtxuPn"
   },
   "outputs": [],
   "source": [
    "# Debug statements\n",
    "\n",
    "print(pre_elections_2024_df[\"score\"].min())\n",
    "print(pre_elections_2024_df[\"score\"].max())\n",
    "\n",
    "print(pre_elections_2024_df[\"ups\"].min())\n",
    "print(pre_elections_2024_df[\"ups\"].max())\n",
    "\n",
    "print(pre_elections_df.head(10))"
   ]
  },
  {
   "cell_type": "markdown",
   "metadata": {
    "id": "TD08IjJ-CSna"
   },
   "source": [
    "## **Using VaderSentiment to explore the data**"
   ]
  },
  {
   "cell_type": "code",
   "execution_count": null,
   "metadata": {
    "id": "xtzJn41TZdR9"
   },
   "outputs": [],
   "source": [
    "print('Lowest Score: ', pre_elections_2024_df[\"score\"].min())\n",
    "print('Highest Score: ', pre_elections_2024_df[\"score\"].max())"
   ]
  },
  {
   "cell_type": "code",
   "execution_count": null,
   "metadata": {
    "id": "6HijhRtx5qZF"
   },
   "outputs": [],
   "source": [
    "# Identify influential users based on karma\n",
    "# sorting users by their total karma to identify influential users\n",
    "influential_users = pre_elections_2024_df.groupby('author_name').agg({\n",
    "    'user_total_karma': 'first',\n",
    "    'user_comment_karma': 'first',\n",
    "    'user_link_karma': 'first',\n",
    "    'user_awardee_karma': 'first',\n",
    "    'user_awarder_karma': 'first',\n",
    "    'ups': 'sum',\n",
    "    'downs': 'sum',\n",
    "    'score': 'sum',\n",
    "    'controversiality': 'mean'\n",
    "}).reset_index()\n",
    "\n",
    "# Sort influential users by total karma to focus on the most influential ones\n",
    "influential_users = influential_users.sort_values(by='user_total_karma', ascending=False)\n",
    "\n",
    "# Display the top 10 most influential users\n",
    "print(\"Top 10 Most Influential Users in Republican Discussions:\")\n",
    "print(influential_users.head(10))\n",
    "\n",
    "# Analyze Engagement Patterns for Influential Users\n",
    "# Select the top 10 influential users\n",
    "top_influential_users = influential_users.head(10)['author_name']\n",
    "\n",
    "# Filter comments by these top users in the Republican-related data\n",
    "top_user_comments = pre_elections_2024_df[pre_elections_2024_df['author_name'].isin(top_influential_users)]\n",
    "\n",
    "# Calculate average engagement metrics for these top users\n",
    "user_engagement_patterns = top_user_comments.groupby('author_name').agg({\n",
    "    'ups': 'mean',\n",
    "    'downs': 'mean',\n",
    "    'score': 'mean',\n",
    "    'controversiality': 'mean',\n",
    "    'user_total_karma': 'first',\n",
    "    'user_comment_karma': 'first'\n",
    "}).reset_index()\n",
    "\n",
    "# Visualize Engagement Patterns for Top Influential Users\n",
    "# Display engagement patterns\n",
    "print(\"\\nEngagement Patterns for Top Influential Users:\")\n",
    "print(user_engagement_patterns)\n",
    "\n",
    "# Bar chart for average upvotes top influential users\n",
    "plt.figure(figsize=(12, 6))\n",
    "plt.bar(user_engagement_patterns['author_name'], user_engagement_patterns['ups'], color='skyblue', label='Average Ups')\n",
    "plt.xlabel(\"User\")\n",
    "plt.ylabel(\"Average Engagement\")\n",
    "plt.title(\"Average Upvotes for Top Influential Users in Republican Discussions\")\n",
    "plt.legend()\n",
    "plt.xticks(rotation=45)\n",
    "plt.show()\n",
    "\n",
    "# Bar chart for total karma of top influential users\n",
    "plt.figure(figsize=(12, 6))\n",
    "plt.bar(user_engagement_patterns['author_name'], user_engagement_patterns['user_total_karma'], color='orange', label='Total karma')\n",
    "plt.xlabel(\"User\")\n",
    "plt.ylabel(\"Total karma\")\n",
    "plt.title(\"Total karma of Top Influential Users in Republican Discussions\")\n",
    "plt.legend()\n",
    "plt.xticks(rotation=45)\n",
    "plt.show()\n",
    "\n",
    "# Bar chart for total comment karma of top influential users\n",
    "plt.figure(figsize=(12, 6))\n",
    "plt.bar(user_engagement_patterns['author_name'], user_engagement_patterns['user_comment_karma'], color='green', label='Comment karma')\n",
    "plt.xlabel(\"User\")\n",
    "plt.ylabel(\"Comment karma\")\n",
    "plt.title(\"Total comment karma of Top Influential Users in Republican Discussions\")\n",
    "plt.legend()\n",
    "plt.xticks(rotation=45)\n",
    "plt.show()\n"
   ]
  },
  {
   "cell_type": "code",
   "execution_count": null,
   "metadata": {
    "id": "BGzMNgUL9qXs"
   },
   "outputs": [],
   "source": [
    "# Calculate account age in days\n",
    "current_date = datetime.now()\n",
    "\n",
    "pre_elections_2024_df['user_account_created_time'] = pd.to_datetime(pre_elections_2024_df['user_account_created_time'])\n",
    "pre_elections_2024_df['account_age_days'] = pre_elections_2024_df['user_account_created_time'].apply(lambda x: (current_date - x).days)\n",
    "\n",
    "# Perform Sentiment Analysis\n",
    "# Initialize sentiment analyzer\n",
    "analyzer = SentimentIntensityAnalyzer()\n",
    "\n",
    "# Function to calculate sentiment score\n",
    "def get_sentiment(text):\n",
    "    if pd.notnull(text):\n",
    "        sentiment_score = analyzer.polarity_scores(text)['compound']  # compound score for overall sentiment\n",
    "        return sentiment_score\n",
    "    return 0\n",
    "\n",
    "# Apply sentiment analysis to the comments about Republicans\n",
    "# Sentiment analysis part has been commented out to avoid rerunning the entire process\n",
    "pre_elections_2024_df['sentiment_score'] = pre_elections_2024_df['self_text'].apply(get_sentiment)\n",
    "\n",
    "# Explore the Correlation Between Account Age and Sentiment Score\n",
    "# Drop any rows where 'sentiment_score' or 'account_age_days' is missing\n",
    "pre_elections_2024_df.dropna(subset=['sentiment_score', 'account_age_days'], inplace=True)\n",
    "\n",
    "# Calculate Pearson correlation coefficient\n",
    "correlation, p_value = pearsonr(pre_elections_2024_df['account_age_days'], pre_elections_2024_df['sentiment_score'])\n",
    "\n",
    "# Display results\n",
    "print(f\"Correlation between account age and sentiment score: {correlation:.4f}\")\n",
    "print(f\"P-value of the correlation: {p_value:.4f}\")\n",
    "\n",
    "# Distribution of account age\n",
    "plt.figure(figsize=(10, 6))\n",
    "sns.histplot(pre_elections_2024_df['account_age_days'], bins=10, kde=True, color='skyblue', label='Account age')\n",
    "plt.xlabel(\"User account age\")\n",
    "plt.ylabel(\"Count\")\n",
    "plt.title(\"User account age distribution\")\n",
    "plt.legend()\n",
    "plt.show()\n",
    "\n",
    "# Distribution of Sentiments\n",
    "plt.figure(figsize=(10, 6))\n",
    "sns.histplot(pre_elections_2024_df['sentiment_score'], bins=10, kde=True, color='brown', label='Sentiment score')\n",
    "plt.xlabel(\"Sentiment scores\")\n",
    "plt.ylabel(\"Count\")\n",
    "plt.title(\"Sentiment score distribution\")\n",
    "plt.legend()\n",
    "plt.show()\n",
    "\n",
    "# Visualize the Correlation\n",
    "plt.figure(figsize=(10, 6))\n",
    "plt.scatter(pre_elections_2024_df['account_age_days'], pre_elections_2024_df['sentiment_score'], alpha=0.6, color='blue')\n",
    "plt.xlabel(\"Account Age (Days)\")\n",
    "plt.ylabel(\"Sentiment Score\")\n",
    "plt.title(\"Correlation Between User Account Age and Sentiment Score Toward Republicans\")\n",
    "plt.grid(True)\n",
    "plt.show()\n"
   ]
  },
  {
   "cell_type": "code",
   "execution_count": null,
   "metadata": {
    "id": "sgI1P2mz0ygh"
   },
   "outputs": [],
   "source": [
    "del df, politics_df, monthly_rep_df, pre_elections_df"
   ]
  },
  {
   "cell_type": "markdown",
   "metadata": {
    "id": "emV7HJnA8hk1"
   },
   "source": [
    "# **Data Cleaning**"
   ]
  },
  {
   "cell_type": "markdown",
   "metadata": {
    "id": "omQ79tNe8d5r"
   },
   "source": [
    "## **Cleaning the textual data**"
   ]
  },
  {
   "cell_type": "code",
   "execution_count": null,
   "metadata": {
    "collapsed": true,
    "id": "vtnUqGWXSDfT"
   },
   "outputs": [],
   "source": [
    "# Create Analysis DataFrame\n",
    "\n",
    "analysis_df = pre_elections_2024_df\n",
    "\n",
    "analysis_df"
   ]
  },
  {
   "cell_type": "code",
   "execution_count": null,
   "metadata": {
    "id": "73WXVpx581nZ"
   },
   "outputs": [],
   "source": [
    "del pre_elections_2024_df"
   ]
  },
  {
   "cell_type": "code",
   "execution_count": null,
   "metadata": {
    "id": "vq1DGJFF5rN3"
   },
   "outputs": [],
   "source": [
    "# Savepoint\n",
    "analysis_df.to_csv(DATASETS_PATH + \"/republicans-politics-2024-cleaned.csv\", index=False)"
   ]
  },
  {
   "cell_type": "code",
   "execution_count": null,
   "metadata": {
    "id": "rX9_RQfXvShU"
   },
   "outputs": [],
   "source": [
    "# Restore point\n",
    "analysis_df = pd.read_csv(DATASETS_PATH + \"/republicans-politics-2024-cleaned.csv\")"
   ]
  },
  {
   "cell_type": "code",
   "execution_count": null,
   "metadata": {
    "id": "evNehTKQUCs0"
   },
   "outputs": [],
   "source": [
    "# Load spaCy's small English model\n",
    "nlp = spacy.load(\"en_core_web_sm\")\n",
    "\n",
    "def preprocess_text(text):\n",
    "    # Step 1: Convert to string if not already\n",
    "    if not isinstance(text, str):\n",
    "        text = str(text)\n",
    "\n",
    "    # Step 2: Remove markdown and URLs\n",
    "    text = re.sub(r'\\!\\[.*?\\]\\(.*?\\)|https?://\\S+|www\\.\\S+', '', text)\n",
    "\n",
    "    # Step 3: Remove extra line breaks and normalize whitespace\n",
    "    text = re.sub(r'\\n+', ' ', text)\n",
    "    text = re.sub(r'\\s+', ' ', text).strip()\n",
    "\n",
    "    # Step 4: Remove HTML encodings like '&gt;' and '&amp;'\n",
    "    text = re.sub(r\"&\\w+;\", \"\", text)\n",
    "\n",
    "    return text\n",
    "\n",
    "analysis_df['clean_text'] = analysis_df['self_text'].apply(preprocess_text)"
   ]
  },
  {
   "cell_type": "code",
   "execution_count": null,
   "metadata": {
    "collapsed": true,
    "id": "-ifUpqSjo-3W"
   },
   "outputs": [],
   "source": [
    "analysis_df[['self_text', 'clean_text']]"
   ]
  },
  {
   "cell_type": "code",
   "execution_count": null,
   "metadata": {
    "id": "8XT345p5xTkL"
   },
   "outputs": [],
   "source": [
    "# Savepoint\n",
    "analysis_df.to_csv(DATASETS_PATH + \"/republicans-politics-2024-cleaned.csv\", index=False)"
   ]
  },
  {
   "cell_type": "code",
   "execution_count": null,
   "metadata": {
    "id": "X4RXWPiT_R4-"
   },
   "outputs": [],
   "source": [
    "# Restore point\n",
    "analysis_df = pd.read_csv(DATASETS_PATH + \"/republicans-politics-2024-cleaned.csv\")"
   ]
  },
  {
   "cell_type": "markdown",
   "metadata": {
    "id": "_Z6xThJXv9Zo"
   },
   "source": [
    "## **Using VADER for Sentiment Polarity**"
   ]
  },
  {
   "cell_type": "code",
   "execution_count": null,
   "metadata": {
    "id": "nzUMKC_ZvMFI"
   },
   "outputs": [],
   "source": [
    "# Function to calculate sentiment score\n",
    "def get_sentiment_polarity(text):\n",
    "    if pd.notnull(text):\n",
    "        sentiment_score = analyzer.polarity_scores(text)['compound']  # compound score for overall sentiment\n",
    "        return sentiment_score\n",
    "    return 0\n",
    "\n",
    "# Apply sentiment analysis to the comments about Republicans\n",
    "analysis_df['vader_sentiment_score'] = analysis_df['clean_text'].apply(get_sentiment_polarity)"
   ]
  },
  {
   "cell_type": "code",
   "execution_count": null,
   "metadata": {
    "collapsed": true,
    "id": "RTJvrm8Pv3Tg"
   },
   "outputs": [],
   "source": [
    "analysis_df['vader_sentiment_score']"
   ]
  },
  {
   "cell_type": "code",
   "execution_count": null,
   "metadata": {
    "id": "qfjC6rxiU0oF"
   },
   "outputs": [],
   "source": [
    "# Savepoint\n",
    "analysis_df.to_csv(DATASETS_PATH + \"/republicans-politics-2024-vader.csv\", index=False)"
   ]
  },
  {
   "cell_type": "code",
   "execution_count": null,
   "metadata": {
    "id": "lhYMNMetU2bU"
   },
   "outputs": [],
   "source": [
    "# Restore point\n",
    "analysis_df = pd.read_csv(DATASETS_PATH + \"/republicans-politics-2024-vader.csv\")"
   ]
  },
  {
   "cell_type": "markdown",
   "metadata": {
    "id": "VRKDBQKgXXwX"
   },
   "source": [
    "## **Using TextBlob for Sentiment Polarity**"
   ]
  },
  {
   "cell_type": "code",
   "execution_count": null,
   "metadata": {
    "id": "TSfcyJnSX_tj"
   },
   "outputs": [],
   "source": [
    "from textblob import TextBlob\n",
    "\n",
    "# Convert 'clean_text' column to string type before applying TextBlob\n",
    "analysis_df['clean_text'] = analysis_df['clean_text'].astype(str)\n",
    "\n",
    "# Calculate sentiment polarity\n",
    "analysis_df['textblob_sentiment_score'] = analysis_df['clean_text'].apply(lambda x: TextBlob(x).sentiment.polarity)"
   ]
  },
  {
   "cell_type": "code",
   "execution_count": null,
   "metadata": {
    "id": "D23zSD3Gx4Sb"
   },
   "outputs": [],
   "source": [
    "analysis_df[['clean_text', 'vader_sentiment_score','textblob_sentiment_score']]"
   ]
  },
  {
   "cell_type": "code",
   "execution_count": null,
   "metadata": {
    "id": "g4VMYtt8_cxw"
   },
   "outputs": [],
   "source": [
    "# Save point\n",
    "analysis_df.to_csv(DATASETS_PATH + \"/republicans-politics-2024-textblob.csv\", index=False)"
   ]
  },
  {
   "cell_type": "code",
   "execution_count": null,
   "metadata": {
    "id": "TBW1EyBQ_dOC"
   },
   "outputs": [],
   "source": [
    "# Restore point\n",
    "analysis_df = pd.read_csv(DATASETS_PATH + \"/republicans-politics-2024-textblob.csv\")"
   ]
  },
  {
   "cell_type": "code",
   "execution_count": null,
   "metadata": {
    "id": "Q1DPSX5A7qq4"
   },
   "outputs": [],
   "source": [
    "nltk.download('stopwords')\n",
    "nltk.download('wordnet')\n",
    "\n",
    "def tokenize_text(text):\n",
    "    if not isinstance(text, str):\n",
    "        return \"\"\n",
    "\n",
    "    # Remove special characters and numbers\n",
    "    text = re.sub(r\"[^a-zA-Z\\s]\", \"\", text)\n",
    "    text = text.lower()  # Convert to lowercase\n",
    "\n",
    "    # Tokenize and remove stopwords\n",
    "    stop_words = set(stopwords.words('english'))\n",
    "    words = text.split()\n",
    "    words = [word for word in words if word not in stop_words]\n",
    "\n",
    "    # Lemmatization\n",
    "    lemmatizer = WordNetLemmatizer()\n",
    "    words = [lemmatizer.lemmatize(word) for word in words]\n",
    "\n",
    "    return \" \".join(words)\n",
    "\n",
    "analysis_df['processed_text'] = analysis_df['clean_text'].apply(tokenize_text)"
   ]
  },
  {
   "cell_type": "code",
   "execution_count": null,
   "metadata": {
    "id": "b5yOyB3hNAxY"
   },
   "outputs": [],
   "source": [
    "# Replace NaN values with empty strings before applying Vectorizer\n",
    "analysis_df['processed_text'] = analysis_df['processed_text'].fillna('')"
   ]
  },
  {
   "cell_type": "code",
   "execution_count": null,
   "metadata": {
    "id": "umiQ_uF9_wdv"
   },
   "outputs": [],
   "source": [
    "# Save point\n",
    "analysis_df.to_csv(DATASETS_PATH + \"/republicans-politics-2024-tokenized.csv\", index=False)"
   ]
  },
  {
   "cell_type": "code",
   "execution_count": null,
   "metadata": {
    "id": "h8041gMN_xLm"
   },
   "outputs": [],
   "source": [
    "# Restore point\n",
    "analysis_df = pd.read_csv(DATASETS_PATH + \"/republicans-politics-2024-tokenized.csv\")"
   ]
  },
  {
   "cell_type": "markdown",
   "metadata": {
    "id": "LDN71NRb3t6x"
   },
   "source": [
    "# **LDA for Topic Discovery**"
   ]
  },
  {
   "cell_type": "code",
   "execution_count": null,
   "metadata": {
    "id": "3WsLc2KE31CT"
   },
   "outputs": [],
   "source": [
    "def print_topics(model, feature_names, n_top_words):\n",
    "    for topic_idx, topic in enumerate(model.components_):\n",
    "        print(f\"Topic #{topic_idx + 1}:\")\n",
    "        print(\" \".join([feature_names[i] for i in topic.argsort()[:-n_top_words - 1:-1]]))\n",
    "        print(\"\\n\")\n",
    "\n",
    "def calculate_topic_diversity(lda_model, feature_names, top_n=10):\n",
    "    topic_words = []\n",
    "    for topic in lda_model.components_:\n",
    "        top_words = [feature_names[i] for i in topic.argsort()[:-top_n - 1:-1]]\n",
    "        topic_words.append(set(top_words))\n",
    "\n",
    "    n_topics = len(topic_words)\n",
    "    total_pairs = n_topics * (n_topics - 1) / 2\n",
    "    diversity = 0\n",
    "    for i in range(n_topics):\n",
    "        for j in range(i + 1, n_topics):\n",
    "            diversity += len(topic_words[i].intersection(topic_words[j])) / top_n\n",
    "    return 1 - (diversity / total_pairs)\n",
    "\n",
    "def create_lda_model(n_topics, vectorizer, processed_text):\n",
    "\n",
    "    lda = LatentDirichletAllocation(n_components=n_topics, random_state=42)\n",
    "\n",
    "    keywords = vectorizer.fit_transform(processed_text)\n",
    "    lda.fit(keywords)\n",
    "\n",
    "    # Get the words corresponding to the topics\n",
    "    feature_names = vectorizer.get_feature_names_out()\n",
    "\n",
    "    n_top_words = 10  # Number of top words per topic\n",
    "    print_topics(lda, feature_names, n_top_words)\n",
    "\n",
    "    topic_distributions = lda.transform(keywords)  # (n_docs, n_topics)\n",
    "\n",
    "    return lda, keywords, topic_distributions, vectorizer\n",
    "\n",
    "def print_metrics(lda_model, keywords):\n",
    "    perplexity = lda_model.perplexity(keywords)\n",
    "    print(f\"Perplexity: {perplexity}\")\n",
    "\n",
    "    log_likelihood = lda_model.score(keywords)\n",
    "    print(f\"Log-Likelihood: {log_likelihood}\")\n",
    "\n",
    "def get_silohouette_score(lda_model, topic_distributions, keywords):\n",
    "    topic_distributions = lda_model.transform(keywords)  # (n_docs, n_topics)\n",
    "    silhouette = silhouette_score(topic_distributions, np.argmax(topic_distributions, axis=1))\n",
    "    print(f\"Silhouette Score: {silhouette:.2f}\")"
   ]
  },
  {
   "cell_type": "markdown",
   "metadata": {
    "id": "XrFIgN8-AYDD"
   },
   "source": [
    "## **CountVectorizer**"
   ]
  },
  {
   "cell_type": "markdown",
   "metadata": {
    "id": "2yuwd6feL7J4"
   },
   "source": [
    "### **5 topics**"
   ]
  },
  {
   "cell_type": "code",
   "execution_count": null,
   "metadata": {
    "id": "RwsFRsO7B8Qx"
   },
   "outputs": [],
   "source": [
    "# Vectorize text\n",
    "vectorizer = CountVectorizer(max_features=1000, stop_words='english')"
   ]
  },
  {
   "cell_type": "code",
   "execution_count": null,
   "metadata": {
    "id": "xnXFsGyK7nwx"
   },
   "outputs": [],
   "source": [
    "lda, keywords, topic_distributions, vectorizer = create_lda_model(5, vectorizer, analysis_df['processed_text'])"
   ]
  },
  {
   "cell_type": "code",
   "execution_count": null,
   "metadata": {
    "id": "t_EzgnuyC2OM"
   },
   "outputs": [],
   "source": [
    "print_metrics(lda, keywords)"
   ]
  },
  {
   "cell_type": "code",
   "execution_count": null,
   "metadata": {
    "id": "XNTp1NsBC6LW"
   },
   "outputs": [],
   "source": [
    "# Add dominant topic to the DataFrame\n",
    "analysis_df['cv5_dominant_topic'] = topic_distributions.argmax(axis=1)\n",
    "analysis_df[['self_text', 'cv5_dominant_topic']]"
   ]
  },
  {
   "cell_type": "code",
   "execution_count": null,
   "metadata": {
    "id": "-mdgxb2m7wnq"
   },
   "outputs": [],
   "source": [
    "# get_silohouette_score(lda, topic_distributions, keywords)"
   ]
  },
  {
   "cell_type": "code",
   "execution_count": null,
   "metadata": {
    "id": "REEA1FRI7zG8"
   },
   "outputs": [],
   "source": [
    "# topic_diversity = calculate_topic_diversity(lda, feature_names, top_n=10)\n",
    "# print(f\"Topic Diversity: {topic_diversity:.2f}\")"
   ]
  },
  {
   "cell_type": "code",
   "execution_count": null,
   "metadata": {
    "id": "_kSYlJoe-FGD"
   },
   "outputs": [],
   "source": [
    "# Save LDA model with 5 topics\n",
    "LDA_5 = {\"model\": lda, \"vectorizer\": vectorizer}\n",
    "pickle.dump(LDA_5, open(MODELS + \"/republicans_LDA_5\", 'wb'))"
   ]
  },
  {
   "cell_type": "code",
   "execution_count": null,
   "metadata": {
    "id": "FfAyAZy2AK_p"
   },
   "outputs": [],
   "source": [
    "# Save point\n",
    "analysis_df.to_csv(DATASETS_PATH + \"/republicans-LDA-5.csv\", index=False)"
   ]
  },
  {
   "cell_type": "code",
   "execution_count": null,
   "metadata": {
    "id": "DoNIer5VDV2p"
   },
   "outputs": [],
   "source": [
    "# Restore point\n",
    "analysis_df = pd.read_csv(DATASETS_PATH + \"/republicans-LDA-5.csv\")"
   ]
  },
  {
   "cell_type": "markdown",
   "metadata": {
    "id": "AvFa-WoS78Ik"
   },
   "source": [
    "### **10 topics**"
   ]
  },
  {
   "cell_type": "code",
   "execution_count": null,
   "metadata": {
    "id": "rdGaxK0IOEwd"
   },
   "outputs": [],
   "source": [
    "# Vectorize text\n",
    "vectorizer = CountVectorizer(max_features=1000, stop_words='english')"
   ]
  },
  {
   "cell_type": "code",
   "execution_count": null,
   "metadata": {
    "id": "Lh7Fk-yNOIuQ"
   },
   "outputs": [],
   "source": [
    "lda_2, keywords_2, topic_distributions_2, vectorizer = create_lda_model(10, vectorizer, analysis_df['processed_text'])"
   ]
  },
  {
   "cell_type": "code",
   "execution_count": null,
   "metadata": {
    "id": "0rc7ZgCM8Q3R"
   },
   "outputs": [],
   "source": [
    "print_metrics(lda_2, keywords_2)"
   ]
  },
  {
   "cell_type": "code",
   "execution_count": null,
   "metadata": {
    "id": "dmKz0p0c8TK5"
   },
   "outputs": [],
   "source": [
    "# get_silohouette_score(lda_2, topic_distributions_2, keywords_2)"
   ]
  },
  {
   "cell_type": "code",
   "execution_count": null,
   "metadata": {
    "id": "f5X7uHTP8W0k"
   },
   "outputs": [],
   "source": [
    "# Add dominant topic to the DataFrame\n",
    "analysis_df['cv10_dominant_topic'] = topic_distributions_2.argmax(axis=1)\n",
    "analysis_df[['self_text', 'cv10_dominant_topic']]"
   ]
  },
  {
   "cell_type": "code",
   "execution_count": null,
   "metadata": {
    "id": "ojum6xYyAlK4"
   },
   "outputs": [],
   "source": [
    "# Save LDA model with 10 topics\n",
    "LDA_10 = {\"model\": lda_2, \"vectorizer\": vectorizer}\n",
    "pickle.dump(LDA_10, open(MODELS + \"/republicans_LDA_10\", 'wb'))"
   ]
  },
  {
   "cell_type": "code",
   "execution_count": null,
   "metadata": {
    "id": "E1wOZAccAwW0"
   },
   "outputs": [],
   "source": [
    "# Save point\n",
    "analysis_df.to_csv(DATASETS_PATH + \"/republicans-LDA-10.csv\", index=False)"
   ]
  },
  {
   "cell_type": "code",
   "execution_count": null,
   "metadata": {
    "id": "-XyyhPqlDdYa"
   },
   "outputs": [],
   "source": [
    "# Restore point\n",
    "analysis_df = pd.read_csv(DATASETS_PATH + \"/republicans-LDA-10.csv\")"
   ]
  },
  {
   "cell_type": "markdown",
   "metadata": {
    "id": "RhcPLIBi8ZcT"
   },
   "source": [
    "## **TfidfVectorizer**"
   ]
  },
  {
   "cell_type": "markdown",
   "metadata": {
    "id": "4GOvyMo4BYaK"
   },
   "source": [
    "### **5 topics**"
   ]
  },
  {
   "cell_type": "code",
   "execution_count": null,
   "metadata": {
    "id": "SR_UkyG581FC"
   },
   "outputs": [],
   "source": [
    "tfidf = TfidfVectorizer(max_features=1000, stop_words='english')"
   ]
  },
  {
   "cell_type": "code",
   "execution_count": null,
   "metadata": {
    "id": "VDzfgEiRPqFh"
   },
   "outputs": [],
   "source": [
    "tfidf_lda, tfidf_keywords, tfidf_topic_distributions, tfidf = create_lda_model(5, tfidf, analysis_df['processed_text'])"
   ]
  },
  {
   "cell_type": "code",
   "execution_count": null,
   "metadata": {
    "id": "M8kWpVJmP4Dv"
   },
   "outputs": [],
   "source": [
    "print_metrics(tfidf_lda, tfidf_keywords)"
   ]
  },
  {
   "cell_type": "code",
   "execution_count": null,
   "metadata": {
    "id": "-YXsF95sBw4-"
   },
   "outputs": [],
   "source": [
    "# get_silohouette_score(tfidf_lda, tfidf_topic_distributions, tfidf_keywords)"
   ]
  },
  {
   "cell_type": "code",
   "execution_count": null,
   "metadata": {
    "id": "0r-_wz1lP7n3"
   },
   "outputs": [],
   "source": [
    "# Add dominant topic to the DataFrame\n",
    "analysis_df['tf5_dominant_topic'] = tfidf_topic_distributions.argmax(axis=1)\n",
    "analysis_df[['self_text', 'tf5_dominant_topic']]"
   ]
  },
  {
   "cell_type": "code",
   "execution_count": null,
   "metadata": {
    "id": "efDNpvkvB_qF"
   },
   "outputs": [],
   "source": [
    "# Save TFIDF model with 5 topics\n",
    "TFIDF_5 = {\"model\": tfidf_lda, \"vectorizer\": tfidf}\n",
    "pickle.dump(TFIDF_5, open(MODELS + \"/republicans_TFIDF_5\", 'wb'))"
   ]
  },
  {
   "cell_type": "code",
   "execution_count": null,
   "metadata": {
    "id": "Yn-IivULCvIi"
   },
   "outputs": [],
   "source": [
    "# Save point\n",
    "analysis_df.to_csv(DATASETS_PATH + \"/republicans-TFIDF-5.csv\", index=False)"
   ]
  },
  {
   "cell_type": "code",
   "execution_count": null,
   "metadata": {
    "id": "gUZvVYFKDm6w"
   },
   "outputs": [],
   "source": [
    "# Restore point\n",
    "analysis_df = pd.read_csv(DATASETS_PATH + \"/republicans-TFIDF-5.csv\")"
   ]
  },
  {
   "cell_type": "markdown",
   "metadata": {
    "id": "DQaN-gsHC9qT"
   },
   "source": [
    "### **10 Topics**"
   ]
  },
  {
   "cell_type": "code",
   "execution_count": null,
   "metadata": {
    "id": "4bggv8gW5-Re"
   },
   "outputs": [],
   "source": [
    "tfidf = TfidfVectorizer(max_features=1000, stop_words='english')"
   ]
  },
  {
   "cell_type": "code",
   "execution_count": null,
   "metadata": {
    "id": "nv_SDHLiz9QV"
   },
   "outputs": [],
   "source": [
    "tfidf_lda_2, tfidf_keywords_2, tfidf_topic_distributions_2, tfidf = create_lda_model(10, tfidf, analysis_df['processed_text'])"
   ]
  },
  {
   "cell_type": "code",
   "execution_count": null,
   "metadata": {
    "id": "-zSal_ag0SS7"
   },
   "outputs": [],
   "source": [
    "print_metrics(tfidf_lda_2, tfidf_keywords_2)"
   ]
  },
  {
   "cell_type": "code",
   "execution_count": null,
   "metadata": {
    "id": "cJ1XAl9YDRAS"
   },
   "outputs": [],
   "source": [
    "# get_silohouette_score(tfidf_lda_2, tfidf_topic_distributions_2, tfidf_keywords_2)"
   ]
  },
  {
   "cell_type": "code",
   "execution_count": null,
   "metadata": {
    "id": "iz44R0KX0Vbd"
   },
   "outputs": [],
   "source": [
    "# Add dominant topic to the DataFrame\n",
    "analysis_df['tf10_dominant_topic'] = tfidf_topic_distributions_2.argmax(axis=1)\n",
    "analysis_df[['self_text', 'tf10_dominant_topic']]"
   ]
  },
  {
   "cell_type": "code",
   "execution_count": null,
   "metadata": {
    "id": "XinXIn3dDjyZ"
   },
   "outputs": [],
   "source": [
    "# Save TFIDF model with 10 topics\n",
    "TFIDF_10 = {\"model\": tfidf_lda_2, \"vectorizer\": tfidf}\n",
    "pickle.dump(TFIDF_10, open(MODELS + \"/republicans_TFIDF_10\", 'wb'))"
   ]
  },
  {
   "cell_type": "code",
   "execution_count": null,
   "metadata": {
    "id": "iETBPBAxD-m6"
   },
   "outputs": [],
   "source": [
    "# Save point\n",
    "analysis_df.to_csv(DATASETS_PATH + \"/republicans-TFIDF-10.csv\", index=False)"
   ]
  },
  {
   "cell_type": "code",
   "execution_count": null,
   "metadata": {
    "id": "CKYo_n8KDrks"
   },
   "outputs": [],
   "source": [
    "# Restore point\n",
    "analysis_df = pd.read_csv(DATASETS_PATH + \"/republicans-TFIDF-10.csv\")"
   ]
  },
  {
   "cell_type": "markdown",
   "metadata": {
    "id": "KcK9vzaOrvdG"
   },
   "source": [
    "# K-Means Clustering\n"
   ]
  },
  {
   "cell_type": "markdown",
   "metadata": {
    "id": "k1v_PdSUMflm"
   },
   "source": [
    "## TfidfVectorizer"
   ]
  },
  {
   "cell_type": "markdown",
   "metadata": {
    "id": "fkKbTUxSNHmb"
   },
   "source": [
    "### 5 Clusters"
   ]
  },
  {
   "cell_type": "code",
   "execution_count": null,
   "metadata": {
    "id": "fhlOpMFor2BL"
   },
   "outputs": [],
   "source": [
    "# Convert text to numerical representation using TF-IDF\n",
    "tfidf_vectorizer = TfidfVectorizer(stop_words='english')\n",
    "tfidf_matrix = tfidf_vectorizer.fit_transform(analysis_df['processed_text'])"
   ]
  },
  {
   "cell_type": "code",
   "execution_count": null,
   "metadata": {
    "id": "uI9cV7pLRJFt"
   },
   "outputs": [],
   "source": [
    "# Apply K-Means clustering\n",
    "num_clusters = 5  # Define the number of clusters\n",
    "kmeans = KMeans(n_clusters=num_clusters, random_state=42)\n",
    "kmeans.fit(tfidf_matrix)\n",
    "\n",
    "# Assign cluster labels to the DataFrame\n",
    "analysis_df['cluster_tf5'] = kmeans.labels_"
   ]
  },
  {
   "cell_type": "code",
   "execution_count": null,
   "metadata": {
    "id": "wzW8eYMK04Af"
   },
   "outputs": [],
   "source": [
    "# Evaluate clustering\n",
    "\n",
    "inertia = kmeans.inertia_\n",
    "print(f\"Inertia: {inertia}\")\n",
    "\n",
    "kmeans_score = kmeans.score(tfidf_matrix)\n",
    "print(f\"Score: {kmeans_score}\")"
   ]
  },
  {
   "cell_type": "code",
   "execution_count": null,
   "metadata": {
    "id": "jZX9OEq_wOOH"
   },
   "outputs": [],
   "source": [
    "# Save Kmeans model with 5 topics\n",
    "KMEANS_TFIDF_5 = {\"model\": kmeans, \"vectorizer\": tfidf_vectorizer}\n",
    "pickle.dump(KMEANS_TFIDF_5, open(MODELS + \"/republicans_Kmeans_TFIDF_5\", 'wb'))"
   ]
  },
  {
   "cell_type": "code",
   "execution_count": null,
   "metadata": {
    "id": "s0fbDWmZGZJ3"
   },
   "outputs": [],
   "source": [
    "# Save point\n",
    "analysis_df.to_csv(DATASETS_PATH + \"/republicans-kmeans-tfidf-10.csv\", index=False)"
   ]
  },
  {
   "cell_type": "code",
   "execution_count": null,
   "metadata": {
    "id": "uXkiU2zuGiTC"
   },
   "outputs": [],
   "source": [
    "# Restore point\n",
    "analysis_df = pd.read_csv(DATASETS_PATH + \"/republicans-kmeans-tfidf-10.csv\")"
   ]
  },
  {
   "cell_type": "markdown",
   "metadata": {
    "id": "nPTt8AvENWzO"
   },
   "source": [
    "### 10 Clusters"
   ]
  },
  {
   "cell_type": "code",
   "execution_count": null,
   "metadata": {
    "id": "pZYPQYoe6b3F"
   },
   "outputs": [],
   "source": [
    "# Convert text to numerical representation using TF-IDF\n",
    "tfidf_vectorizer = TfidfVectorizer(stop_words='english')\n",
    "tfidf_matrix = tfidf_vectorizer.fit_transform(analysis_df['processed_text'])"
   ]
  },
  {
   "cell_type": "code",
   "execution_count": null,
   "metadata": {
    "id": "xyPzf4Z70k1K"
   },
   "outputs": [],
   "source": [
    "num_clusters = 10  # Define the number of clusters\n",
    "kmeans10 = KMeans(n_clusters=num_clusters, random_state=42)\n",
    "kmeans10.fit(tfidf_matrix)\n",
    "\n",
    "# Assign cluster labels to the DataFrame\n",
    "analysis_df['cluster_tf10'] = kmeans10.labels_"
   ]
  },
  {
   "cell_type": "code",
   "execution_count": null,
   "metadata": {
    "id": "etsF0bUn0tAE"
   },
   "outputs": [],
   "source": [
    "# Evaluate clustering\n",
    "\n",
    "inertia = kmeans10.inertia_\n",
    "print(f\"Inertia: {inertia}\")\n",
    "\n",
    "kmeans10_score = kmeans10.score(tfidf_matrix)\n",
    "print(f\"Score: {kmeans10_score}\")"
   ]
  },
  {
   "cell_type": "code",
   "execution_count": null,
   "metadata": {
    "id": "KyAaMG-Vw0yW"
   },
   "outputs": [],
   "source": [
    "# Save Kmeans model with 10 topics\n",
    "KMEANS_TFIDF_10 = {\"model\": kmeans10, \"vectorizer\": tfidf_vectorizer}\n",
    "pickle.dump(KMEANS_TFIDF_10, open(MODELS + \"/republicans_Kmeans_TFIDF_10\", 'wb'))"
   ]
  },
  {
   "cell_type": "code",
   "execution_count": null,
   "metadata": {
    "id": "6mA0LEYfUAXp"
   },
   "outputs": [],
   "source": [
    "# Save point\n",
    "analysis_df.to_csv(DATASETS_PATH + \"/republicans-kmeans-tfidf-5.csv\", index=False)"
   ]
  },
  {
   "cell_type": "code",
   "execution_count": null,
   "metadata": {
    "id": "1guUIsPGGp8R"
   },
   "outputs": [],
   "source": [
    "# Restore point\n",
    "analysis_df = pd.read_csv(DATASETS_PATH + \"/republicans-kmeans-tfidf-5.csv\")"
   ]
  },
  {
   "cell_type": "markdown",
   "metadata": {
    "id": "5U3i5w90Mltc"
   },
   "source": [
    "## CountVectorizer"
   ]
  },
  {
   "cell_type": "markdown",
   "metadata": {
    "id": "7rD77BY8OKxM"
   },
   "source": [
    "### 5 Clusters"
   ]
  },
  {
   "cell_type": "code",
   "execution_count": null,
   "metadata": {
    "id": "Sa6He56DMrvU"
   },
   "outputs": [],
   "source": [
    "# Convert text to numerical representation using CountVectorizer\n",
    "count_vectorizer = CountVectorizer(stop_words='english')\n",
    "count_matrix = count_vectorizer.fit_transform(analysis_df['processed_text'])"
   ]
  },
  {
   "cell_type": "code",
   "execution_count": null,
   "metadata": {
    "id": "DAhvgqrlN56a"
   },
   "outputs": [],
   "source": [
    "# Apply K-Means clustering\n",
    "num_clusters = 5  # Define the number of clusters\n",
    "kmeans_cv5 = KMeans(n_clusters=num_clusters, random_state=42)\n",
    "kmeans_cv5.fit(count_matrix)\n",
    "\n",
    "# Assign cluster labels to the DataFrame\n",
    "analysis_df['cluster_cv5'] = kmeans_cv5.labels_"
   ]
  },
  {
   "cell_type": "code",
   "execution_count": null,
   "metadata": {
    "id": "a4Quc9JUPqkM"
   },
   "outputs": [],
   "source": [
    "inertia = kmeans_cv5.inertia_\n",
    "print(f\"Inertia: {inertia}\")"
   ]
  },
  {
   "cell_type": "code",
   "execution_count": null,
   "metadata": {
    "id": "fHophPU3xCEk"
   },
   "outputs": [],
   "source": [
    "# Save Kmeans model with 5 topics\n",
    "KMEANS_CV_5 = {\"model\": kmeans_cv5, \"vectorizer\": count_vectorizer}\n",
    "pickle.dump(KMEANS_CV_5, open(MODELS + \"/republicans_Kmeans_cv_5\", 'wb'))"
   ]
  },
  {
   "cell_type": "code",
   "execution_count": null,
   "metadata": {
    "id": "xJ-JqO4pGx1X"
   },
   "outputs": [],
   "source": [
    "# Save point\n",
    "analysis_df.to_csv(DATASETS_PATH + \"/republicans-kmeans-cv-5.csv\", index=False)"
   ]
  },
  {
   "cell_type": "code",
   "execution_count": null,
   "metadata": {
    "id": "AfAOxuNWG1JP"
   },
   "outputs": [],
   "source": [
    "# Restore point\n",
    "analysis_df = pd.read_csv(DATASETS_PATH + \"/republicans-kmeans-cv-5.csv\")"
   ]
  },
  {
   "cell_type": "markdown",
   "metadata": {
    "id": "qI_mQxVvOO5p"
   },
   "source": [
    "### 10 Clusters"
   ]
  },
  {
   "cell_type": "code",
   "execution_count": null,
   "metadata": {
    "id": "FOJfaSWf9LzC"
   },
   "outputs": [],
   "source": [
    "# Convert text to numerical representation using CountVectorizer\n",
    "count_vectorizer = CountVectorizer(stop_words='english')\n",
    "count_matrix = count_vectorizer.fit_transform(analysis_df['processed_text'])"
   ]
  },
  {
   "cell_type": "code",
   "execution_count": null,
   "metadata": {
    "id": "wGY_qeTLM93R"
   },
   "outputs": [],
   "source": [
    "num_clusters = 10  # Define the number of clusters\n",
    "kmeans_cv10 = KMeans(n_clusters=num_clusters, random_state=42)\n",
    "kmeans_cv10.fit(tfidf_matrix)\n",
    "\n",
    "# Assign cluster labels to the DataFrame\n",
    "analysis_df['cluster_cv10'] = kmeans_cv10.labels_"
   ]
  },
  {
   "cell_type": "code",
   "execution_count": null,
   "metadata": {
    "id": "wVCCa8XLPs21"
   },
   "outputs": [],
   "source": [
    "inertia = kmeans_cv10.inertia_\n",
    "print(f\"Inertia: {inertia}\")"
   ]
  },
  {
   "cell_type": "code",
   "execution_count": null,
   "metadata": {
    "id": "oDhHP52Mx6ft"
   },
   "outputs": [],
   "source": [
    "# Save Kmeans model with 10 topics\n",
    "KMEANS_CV_10 = {\"model\": kmeans_cv10, \"vectorizer\": count_vectorizer}\n",
    "pickle.dump(KMEANS_CV_10, open(MODELS + \"/republicans_Kmeans_cv_10\", 'wb'))"
   ]
  },
  {
   "cell_type": "code",
   "execution_count": null,
   "metadata": {
    "id": "wlL1AKNHT-Mo"
   },
   "outputs": [],
   "source": [
    "# Save point\n",
    "analysis_df.to_csv(DATASETS_PATH + \"/republicans-kmeans-cv-10.csv\", index=False)"
   ]
  },
  {
   "cell_type": "code",
   "execution_count": null,
   "metadata": {
    "id": "JOmZGC6OHFVO"
   },
   "outputs": [],
   "source": [
    "# Restore point\n",
    "analysis_df = pd.read_csv(DATASETS_PATH + \"/republicans-kmeans-cv-10.csv\")"
   ]
  },
  {
   "cell_type": "code",
   "execution_count": null,
   "metadata": {
    "id": "sT5eW5GECD2j"
   },
   "outputs": [],
   "source": [
    "# # Load LDA CV model with 5 topics\n",
    "# lda_cv_5 = pickle.load(open(MODELS + \"/republicans_LDA_5\", 'rb'))\n",
    "\n",
    "# # Load LDA CV model with 10 topics\n",
    "# lda_cv_10 = pickle.load(open(MODELS + \"/republicans_LDA_10\", 'rb'))\n",
    "\n",
    "# # Load LDA TFIDF model with 5 topics\n",
    "# lda_tfidf_5 = pickle.load(open(MODELS + \"/republicans_TFIDF_5\", 'rb'))\n",
    "\n",
    "\n",
    "# # Load Kmeans CV model with 5 topics\n",
    "# km_cv_5 = pickle.load(open(MODELS + \"/republicans_Kmeans_cv_5\", 'rb'))\n",
    "\n",
    "# # Load Kmeans CV model with 10 topics\n",
    "# km_cv_10 = pickle.load(open(MODELS + \"/republicans_Kmeans_cv_10\", 'rb'))\n",
    "\n",
    "# # Load Kmeans TFIDF model with 5 topics\n",
    "# km_tfidf_5 = pickle.load(open(MODELS + \"/republicans_Kmeans_TFIDF_5\", 'rb'))\n",
    "\n",
    "# Load LDA TFIDF model with 10 topics\n",
    "lda_tfidf_10 = pickle.load(open(MODELS + \"/republicans_TFIDF_10\", 'rb'))\n",
    "\n",
    "# Load Kmeans TFIDF model with 10 topics\n",
    "km_tfidf_10 = pickle.load(open(MODELS + \"/republicans_Kmeans_TFIDF_10\", 'rb'))"
   ]
  },
  {
   "cell_type": "markdown",
   "metadata": {
    "id": "YXWCg_W7BtLA"
   },
   "source": [
    "# **Search Functionality**"
   ]
  },
  {
   "cell_type": "code",
   "execution_count": null,
   "metadata": {
    "id": "1-HYAB2iBx5J"
   },
   "outputs": [],
   "source": [
    "# Function to extract top words from LDA topics\n",
    "def extract_lda_topics(lda_model, vectorizer, n_top_words=10):\n",
    "    feature_names = vectorizer.get_feature_names_out()\n",
    "    topic_keywords = {}\n",
    "    for idx, topic in enumerate(lda_model.components_):\n",
    "        top_indices = topic.argsort()[:-n_top_words - 1:-1]\n",
    "        top_words = [feature_names[i] for i in top_indices]\n",
    "        topic_keywords[idx] = top_words\n",
    "    return topic_keywords\n",
    "\n",
    "# Function to extract top terms for K-Means clusters\n",
    "def extract_kmeans_clusters(kmeans_model, tfidf_vectorizer, n_top_words=10):\n",
    "    cluster_centroids = kmeans_model.cluster_centers_\n",
    "    feature_names = tfidf_vectorizer.get_feature_names_out()\n",
    "\n",
    "    cluster_keywords = {}\n",
    "    for idx, centroid in enumerate(cluster_centroids):\n",
    "        top_indices = centroid.argsort()[:-n_top_words - 1:-1]\n",
    "        top_words = [feature_names[i] for i in top_indices]\n",
    "        cluster_keywords[idx] = top_words\n",
    "    return cluster_keywords\n",
    "\n",
    "# Synonym expansion using WordNet\n",
    "def get_synonyms(query):\n",
    "    synonyms = set()\n",
    "    for synset in wn.synsets(query):\n",
    "        for lemma in synset.lemmas():\n",
    "            synonyms.add(lemma.name().lower())\n",
    "    return list(synonyms)\n",
    "\n",
    "# Fuzzy matching for terms\n",
    "def fuzzy_match(query, keywords, threshold=80):\n",
    "    matches = []\n",
    "    for word in keywords:\n",
    "        if fuzz.ratio(query.lower(), word.lower()) >= threshold:\n",
    "            matches.append(word)\n",
    "    return matches\n",
    "\n",
    "# Search function for both models\n",
    "def search_models(query, lda_model, lda_vectorizer, kmeans_model, tfidf_vectorizer, n_top_words=10, threshold=80):\n",
    "    \"\"\"\n",
    "    Search for a query across both LDA and K-Means models and return combined results.\n",
    "    \"\"\"\n",
    "    results = {\"LDA\": {}, \"K-Means\": {}}\n",
    "\n",
    "    # Extract LDA topics and search\n",
    "    lda_keywords = extract_lda_topics(lda_model, lda_vectorizer, n_top_words)\n",
    "    lda_matches = search_topics_with_synonyms_and_fuzzy(query, lda_keywords, threshold)\n",
    "    results[\"LDA\"] = lda_matches\n",
    "\n",
    "    # Extract K-Means clusters and search\n",
    "    kmeans_keywords = extract_kmeans_clusters(kmeans_model, tfidf_vectorizer, n_top_words)\n",
    "    kmeans_matches = search_topics_with_synonyms_and_fuzzy(query, kmeans_keywords, threshold)\n",
    "    results[\"K-Means\"] = kmeans_matches\n",
    "\n",
    "    return results\n",
    "\n",
    "# Unified search logic\n",
    "def search_topics_with_synonyms_and_fuzzy(query, topic_keywords, threshold=80):\n",
    "    synonyms = get_synonyms(query)\n",
    "    all_search_terms = [query] + synonyms\n",
    "\n",
    "    matching_topics = {}\n",
    "\n",
    "    for word in all_search_terms:\n",
    "        for topic_idx, keywords in topic_keywords.items():\n",
    "            # Perform both exact match and fuzzy match\n",
    "            exact_matches = [w for w in keywords if word == w]\n",
    "            fuzzy_matches = fuzzy_match(word, keywords, threshold)\n",
    "\n",
    "            if exact_matches or fuzzy_matches:\n",
    "                if topic_idx not in matching_topics:\n",
    "                    matching_topics[topic_idx] = set()\n",
    "                matching_topics[topic_idx].update(exact_matches + fuzzy_matches)\n",
    "\n",
    "    return matching_topics\n",
    "\n",
    "# Main invocation\n",
    "query = input(\"Enter a word to search: \")\n",
    "\n",
    "# LDA and K-Means setup (Assume models are already trained)\n",
    "lda_model, lda_vectorizer = lda_tfidf_10[\"model\"], lda_tfidf_10[\"vectorizer\"]\n",
    "kmeans_model, tfidf_vectorizer = km_tfidf_10[\"model\"], km_tfidf_10[\"vectorizer\"]\n",
    "\n",
    "# Search across both models\n",
    "search_results = search_models(query, lda_model, lda_vectorizer, kmeans_model, tfidf_vectorizer)\n",
    "\n",
    "# Display results\n",
    "if any(search_results[\"LDA\"]) or any(search_results[\"K-Means\"]):\n",
    "    print(f\"Results for '{query}':\\n\")\n",
    "\n",
    "    # LDA Results\n",
    "    if search_results[\"LDA\"]:\n",
    "        print(\"LDA Results:\")\n",
    "        for topic_idx, matched_keywords in search_results[\"LDA\"].items():\n",
    "            print(f\"  Topic {topic_idx + 1}: {list(matched_keywords)}\")\n",
    "    else:\n",
    "        print(\"No matches found in LDA.\")\n",
    "\n",
    "    # K-Means Results\n",
    "    if search_results[\"K-Means\"]:\n",
    "        print(\"\\nK-Means Results:\")\n",
    "        for cluster_idx, matched_keywords in search_results[\"K-Means\"].items():\n",
    "            print(f\"  Cluster {cluster_idx + 1}: {list(matched_keywords)}\")\n",
    "    else:\n",
    "        print(\"No matches found in K-Means.\")\n",
    "else:\n",
    "    print(f\"No matches found for '{query}' in either model.\")\n"
   ]
  },
  {
   "cell_type": "markdown",
   "metadata": {
    "id": "oEZPHeQhAdkq"
   },
   "source": [
    "# **Qualitative Analysis**"
   ]
  },
  {
   "cell_type": "code",
   "execution_count": null,
   "metadata": {
    "id": "fSz57m6wypwf"
   },
   "outputs": [],
   "source": [
    "topic_distribution = analysis_df['tf5_dominant_topic'].value_counts()\n",
    "topic_distribution"
   ]
  },
  {
   "cell_type": "code",
   "execution_count": null,
   "metadata": {
    "id": "fC45Qp6o0F0C"
   },
   "outputs": [],
   "source": [
    "# Engagement Analysis\n",
    "engagement_stats = analysis_df.groupby('tf5_dominant_topic')[['score', 'ups', 'downs']].mean()\n",
    "\n",
    "# Time-based Analysis\n",
    "analysis_df['post_created_time'] = pd.to_datetime(analysis_df['post_created_time'])\n",
    "analysis_df['hour'] = analysis_df['post_created_time'].dt.hour\n",
    "hourly_activity = analysis_df.groupby('hour').size()\n"
   ]
  },
  {
   "cell_type": "code",
   "execution_count": null,
   "metadata": {
    "id": "hAYIOeJY0bQU"
   },
   "outputs": [],
   "source": [
    "sns.histplot(analysis_df['vader_sentiment_score'], kde=True)\n",
    "plt.title(\"Sentiment Distribution\")\n",
    "plt.show()\n"
   ]
  },
  {
   "cell_type": "code",
   "execution_count": null,
   "metadata": {
    "id": "haaM9kxU0v6O"
   },
   "outputs": [],
   "source": [
    "analysis_df.groupby('tf5_dominant_topic')['vader_sentiment_score'].mean().sort_values().plot(kind='barh')\n",
    "plt.title(\"Average Sentiment Score by VADER\")\n",
    "plt.show()\n"
   ]
  },
  {
   "cell_type": "code",
   "execution_count": null,
   "metadata": {
    "id": "EyrVskew1S--"
   },
   "outputs": [],
   "source": [
    "analysis_df.groupby('tf5_dominant_topic')['textblob_sentiment_score'].mean().sort_values().plot(kind='barh')\n",
    "plt.title(\"Average Sentiment Score by Textblob\")\n",
    "plt.show()"
   ]
  },
  {
   "cell_type": "code",
   "execution_count": null,
   "metadata": {
    "id": "eQoSY4cj_6f9"
   },
   "outputs": [],
   "source": [
    "# Function to calculate sentiment score\n",
    "def get_sentiment(sentiment_score):\n",
    "  if sentiment_score >= 0.0765:    # Best decision boundary = 0.0765\n",
    "    return \"positive\"\n",
    "  elif sentiment_score <= -0.0765:\n",
    "    return \"negative\"\n",
    "  else:\n",
    "    return \"neutral\"\n",
    "\n",
    "analysis_df['vader_sentiment'] = analysis_df['vader_sentiment_score'].apply(get_sentiment)"
   ]
  },
  {
   "cell_type": "code",
   "execution_count": null,
   "metadata": {
    "id": "vodnd49ECf8t"
   },
   "outputs": [],
   "source": [
    "# sns.histplot(analysis_df['vader_sentiment'], kde=True)\n",
    "analysis_df.groupby('tf5_dominant_topic')['vader_sentiment'].value_counts().plot(kind='bar')\n",
    "# analysis_df.groupby('vader_sentiment')['dominant_topic'].value_counts().plot(kind='barh')\n",
    "# analysis_df[analysis_df['dominant_topic'] == 0]['vader_sentiment'].value_counts().plot(kind='bar')\n",
    "plt.title(\"Sentiment Distribution\")\n",
    "plt.show()"
   ]
  },
  {
   "cell_type": "code",
   "execution_count": null,
   "metadata": {
    "id": "uT75lW3dAmnm"
   },
   "outputs": [],
   "source": [
    "# Save point\n",
    "analysis_df.to_csv(DATASETS_PATH + \"/republicans-politics-2024-vader-2.csv\", index=False)"
   ]
  },
  {
   "cell_type": "code",
   "execution_count": null,
   "metadata": {
    "id": "opFDCcMRAnVT"
   },
   "outputs": [],
   "source": [
    "# Recover point\n",
    "analysis_df = pd.read_csv(DATASETS_PATH + \"/republicans-politics-2024-vader-2.csv\")"
   ]
  },
  {
   "cell_type": "code",
   "execution_count": null,
   "metadata": {
    "id": "yEWBjtBbKm6j"
   },
   "outputs": [],
   "source": [
    "# Create the multi-bar graph\n",
    "ax = analysis_df.groupby('tf5_dominant_topic')['vader_sentiment'].value_counts().unstack().plot(kind='bar')\n",
    "plt.title('Sentiment Distribution across Dominant Topics')\n",
    "plt.xlabel('Dominant Topic')\n",
    "plt.ylabel('Count')\n",
    "plt.xticks(rotation=45)\n",
    "plt.legend(title='Sentiment')\n",
    "\n",
    "plt.tight_layout()\n",
    "plt.show()"
   ]
  },
  {
   "cell_type": "code",
   "execution_count": null,
   "metadata": {
    "id": "6zzhsB0h09Xh"
   },
   "outputs": [],
   "source": [
    "hourly_activity.plot(kind='line')\n",
    "plt.title(\"Posting Activity by Hour\")\n",
    "plt.xlabel(\"Hour\")\n",
    "plt.ylabel(\"Number of Posts\")\n",
    "plt.show()"
   ]
  },
  {
   "cell_type": "code",
   "execution_count": null,
   "metadata": {
    "id": "q8z0robZsJcV"
   },
   "outputs": [],
   "source": [
    "analysis_df['post_created_time'] = pd.to_datetime(analysis_df['post_created_time'])\n",
    "analysis_df['time_from_election_day'] = round((pd.to_datetime('2024-11-05 00:00:00') - analysis_df['post_created_time']).dt.days / 30, 0)\n",
    "analysis_df['time_from_election_day'] = analysis_df['time_from_election_day'].astype(int)"
   ]
  },
  {
   "cell_type": "code",
   "execution_count": null,
   "metadata": {
    "id": "hTc6ZiVVlPDC"
   },
   "outputs": [],
   "source": [
    "analysis_df.groupby('time_from_election_day')['vader_sentiment'].value_counts().nlargest(50).unstack().plot(kind='bar')\n",
    "plt.title(\"Sentiment Distribution by Time from Election Day\")\n",
    "plt.xlabel(\"Months Before from Election Day\")\n",
    "plt.ylabel(\"Count\")\n",
    "plt.figure(figsize=(15, 10))\n",
    "plt.show()"
   ]
  },
  {
   "cell_type": "code",
   "execution_count": null,
   "metadata": {
    "id": "0iKhmwMHmFLc"
   },
   "outputs": [],
   "source": [
    "for i in range(5):\n",
    "  analysis_df[analysis_df['tf5_dominant_topic'] == i].groupby('time_from_election_day')['vader_sentiment'].value_counts().nlargest(50).unstack().plot(kind='bar')\n",
    "  plt.title(f\"Topic {i+1}: Sentiment Distribution by Time from Election Day\")\n",
    "  plt.xlabel(\"Months Before from Election Day\")\n",
    "  plt.ylabel(\"Count\")\n",
    "  plt.show()"
   ]
  },
  {
   "cell_type": "code",
   "execution_count": null,
   "metadata": {
    "id": "Ztpl9RlKrofa"
   },
   "outputs": [],
   "source": [
    "analysis_df.groupby('tf5_dominant_topic')['vader_sentiment_score'].mean().sort_values().plot(kind='barh')\n",
    "plt.title(\"Topic-wise Average Sentiment Score\")\n",
    "plt.xlabel(\"Average Sentiment Score\")\n",
    "plt.ylabel(\"Topic\")\n",
    "plt.show()"
   ]
  },
  {
   "cell_type": "code",
   "execution_count": null,
   "metadata": {
    "id": "F-lModZDruTg"
   },
   "outputs": [],
   "source": [
    "# Multi-bar graph\n",
    "ax = analysis_df.groupby('tf5_dominant_topic')['vader_sentiment'].value_counts().unstack().plot(kind='bar')\n",
    "plt.title('Sentiment Distribution across Dominant Topics')\n",
    "plt.xlabel('Dominant Topic')\n",
    "plt.ylabel('Count')\n",
    "plt.xticks(rotation=45)\n",
    "plt.legend(title='Sentiment')\n",
    "\n",
    "plt.tight_layout()\n",
    "plt.show()"
   ]
  },
  {
   "cell_type": "code",
   "execution_count": null,
   "metadata": {
    "id": "klUsXuNUs9hq"
   },
   "outputs": [],
   "source": [
    "# Save point\n",
    "analysis_df.to_csv(DATASETS_PATH + \"/republicans-politics-2024-qual.csv\", index=False)"
   ]
  },
  {
   "cell_type": "code",
   "execution_count": null,
   "metadata": {
    "id": "8KTm2jwKtIb-"
   },
   "outputs": [],
   "source": [
    "# Recover point\n",
    "analysis_df = pd.read_csv(DATASETS_PATH + \"/republicans-politics-2024-qual.csv\")"
   ]
  },
  {
   "cell_type": "markdown",
   "metadata": {
    "id": "14F9eJjBQy6C"
   },
   "source": [
    "# Most Commonly Used Phrases Across Topics"
   ]
  },
  {
   "cell_type": "code",
   "execution_count": null,
   "metadata": {
    "id": "t0TLzSyXK7e1"
   },
   "outputs": [],
   "source": [
    "# define analysis window for month august\n",
    "engaging_month = analysis_df[(analysis_df['created_month'] == '2024-08')]\n",
    "\n",
    "# Function to get most common phrases\n",
    "def get_most_common_phrases(comments, ngram_range, top_n):\n",
    "    comments = [str(comment) if not pd.isnull(comment) else '' for comment in comments]\n",
    "    vectorizer = CountVectorizer(ngram_range=ngram_range, stop_words='english')\n",
    "    bag_of_words = vectorizer.fit_transform(comments)\n",
    "    sum_words = bag_of_words.sum(axis=0)\n",
    "    words_freq = [(word, sum_words[0, idx]) for word, idx in vectorizer.vocabulary_.items()]\n",
    "    words_freq = sorted(words_freq, key=lambda x: x[1], reverse=True)\n",
    "    return words_freq[:top_n]\n",
    "\n",
    "# Most common phrases per topic\n",
    "topic_phrases = {}\n",
    "for topic in engaging_month[\"tf5_dominant_topic\"].unique():\n",
    "    topic_comments = engaging_month[engaging_month[\"tf5_dominant_topic\"] == topic][\"clean_text\"].tolist()\n",
    "    topic_phrases[topic] = get_most_common_phrases(topic_comments, ngram_range=(3, 5), top_n=10)\n",
    "\n",
    "# Print most common phrases for each topic\n",
    "for topic, phrases in topic_phrases.items():\n",
    "    print(f\"\\nTopic {topic} Most Common Phrases:\")\n",
    "    for phrase, freq in phrases:\n",
    "        print(f\"{phrase}:{freq}\")"
   ]
  }
 ],
 "metadata": {
  "colab": {
   "provenance": []
  },
  "kernelspec": {
   "display_name": "Python 3",
   "name": "python3"
  },
  "language_info": {
   "name": "python"
  }
 },
 "nbformat": 4,
 "nbformat_minor": 0
}
